{
 "cells": [
  {
   "cell_type": "code",
   "execution_count": 4,
   "metadata": {
    "collapsed": true
   },
   "outputs": [],
   "source": [
    "import whoosh\n",
    "import os\n",
    "import re\n",
    "import csv\n",
    "from operator import itemgetter\n",
    "from itertools import groupby"
   ]
  },
  {
   "cell_type": "code",
   "execution_count": 9,
   "metadata": {
    "collapsed": true
   },
   "outputs": [],
   "source": [
    "a_article = \"O site Conversa com Brasileiros, lançado em maio do ano passado pelo PSDB para \\\n",
    "ser um canal de diálogo dos políticos do partido com a população e para divulgar \\\n",
    "as informações e viagens do presidenciável Aécio Neves no momento em que ele \\\n",
    "iniciou sua corrida ao Palácio do Planalto, foi hackeado nesta quarta-feira, 23,\\\n",
    "em represália ao apoio do tucano à decretação da prisão de 23 manifestantes \\\n",
    "denunciados pelo Ministério Público do Rio de Janeiro que participaram de \\\n",
    "protestos violentos no Estado. \\\n",
    "A máscara-símbolo do grupo denominado Anonymous aparece na abertura do site \\\n",
    "www.conversacombrasileiros.com.br, num fundo preto, com a seguinte indagação:  \\\n",
    "Então, quer dizer que o senhor Aécio Neves apoia a repressão contra os  \\\n",
    "protestos populares? E, em seguida, completa: Ainda bem que políticos como ele  \\\n",
    "jamais governará (sic) este País. A assinatura é do Anonymous. Este grupo tem  \\\n",
    "participado das manifestações de rua em todo o País, desde o ano passado, e se  \\\n",
    "notabilizou pela invasão de alguns sites.  \\\n",
    "Ontem, em nota, Aécio Neves se posicionou a favor da prisão dos manifestantes  \\\n",
    "denunciados pelo Ministério Público, dizendo que ele e seu partido não podem  \\\n",
    "compactuar com o crime e com grupos que usam a violência para tomar à força as  \\\n",
    "ruas. A texto do tucano diz ainda que, logo após a prisão, surpreendentemente,  \\\n",
    "o PT divulgou uma nota de solidariedade aos presos, assinado por dirigentes do  \\\n",
    "partido, afirmando que a prisão é uma grave violação dos direitos e das  \\\n",
    "liberdades democráticas. Aécio questiona, na nota, a presidente Dilma Rousseff  \\\n",
    "(PT), sua adversária neste pleito, sobre sua posição e indaga se ela também  \\\n",
    "apoia os que usam a violência contra o patrimônio público, que pertence aos  \\\n",
    "brasileiros e atacam as instituições.\""
   ]
  },
  {
   "cell_type": "code",
   "execution_count": 14,
   "metadata": {
    "collapsed": true
   },
   "outputs": [],
   "source": [
    "test_article2 = \"Para o antropólogo Paulo Storani, ex-capitão do Batalhão de \\\n",
    "Operações Especiais (Bope) da PM, as autoridades de segurança estão perdendo a \\\n",
    "guerra da comunicação na defesa do programa das UPPs do Rio. Recentemente está \\\n",
    "se tornando comum protestos de moradores de favelas pacificadas exigindo a retirada\\\n",
    "das UPPs destes locais.Isso ocorreu nas várias manifestações de moradores do Pavão-Pavãozinho, \\\n",
    "em Copacabana (zona sul), contra a morte do dançarino do programa Esquenta, da TV Globo Douglas\\\n",
    "Rafael Pereira. Nestes protestos estão surgindo várias faixas com os dizeres 'fora UPP'. Será \\\n",
    "que isso é uma exigência da maioria das pessoas que vivem ali, ou apenas de um grupo de\\\n",
    "moradores que ficaram sem renda com a saída dos traficantes? É sabido que muitas pessoas que \\\n",
    "não necessariamente estavam ligadas ao tráfico eram contratadas para fazer a endolação, ou seja,\\\n",
    "preparar a droga para venda, explica Storani. Está faltando coragem de as autoridades \\\n",
    "assumirem os erros do projeto, talvez por ser ano eleitoral. Mas a omissão abre espaço para \\\n",
    "alguém falar. É o que está acontecendo com a minoria que prega o fim das UPPs, que inegavelmente \\\n",
    "reduziram as taxas de criminalidade e devolveram o controle desses territórios para o Estado. Além\\\n",
    "disso, na opinião do especialista, a raiz da crise das UPPs está no fato de o programa ter ficado pela metade.\\\n",
    "A pacificação tem três fases: intervenção policial para retomada do território; ocupação social para integrar \\\n",
    "as favelas à cidade formal; e a retirada da polícia. Infelizmente, até agora apenas a primeira fase\\\n",
    "se concretizou, disse.\""
   ]
  },
  {
   "cell_type": "code",
   "execution_count": 25,
   "metadata": {
    "collapsed": true
   },
   "outputs": [],
   "source": [
    "def query_cities(article, city):\n",
    "\n",
    "    text = article.split()\n",
    "    if city in text:\n",
    "        takeIndex = text.index(city)\n",
    "        wc = len(text)\n",
    "        if takeIndex > 10 and takeIndex < wc - 10:\n",
    "            subset = ' '.join(text[takeIndex-10:takeIndex+10])\n",
    "        elif takeIndex < 10 and takeIndex < wc - 10:\n",
    "            subset = ' '.join(text[:takeIndex+10])\n",
    "        elif takeIndex > 10 and takeIndex > wc - 10:\n",
    "            subset = ' '.join(text[takeIndex-10:])\n",
    "\n",
    "        if 'protest' in subset:\n",
    "            return(True)\n",
    "    else:\n",
    "        return(False)"
   ]
  },
  {
   "cell_type": "code",
   "execution_count": 26,
   "metadata": {
    "collapsed": false
   },
   "outputs": [
    {
     "data": {
      "text/plain": [
       "False"
      ]
     },
     "execution_count": 26,
     "metadata": {},
     "output_type": "execute_result"
    }
   ],
   "source": [
    "query_cities(a_article, \"Curitiba\")"
   ]
  },
  {
   "cell_type": "code",
   "execution_count": 22,
   "metadata": {
    "collapsed": false
   },
   "outputs": [
    {
     "data": {
      "text/plain": [
       "True"
      ]
     },
     "execution_count": 22,
     "metadata": {},
     "output_type": "execute_result"
    }
   ],
   "source": [
    "query_cities(test_article2, \"Rio.\")"
   ]
  },
  {
   "cell_type": "code",
   "execution_count": null,
   "metadata": {
    "collapsed": true
   },
   "outputs": [],
   "source": []
  }
 ],
 "metadata": {
  "kernelspec": {
   "display_name": "Python 2",
   "language": "python",
   "name": "python2"
  },
  "language_info": {
   "codemirror_mode": {
    "name": "ipython",
    "version": 2
   },
   "file_extension": ".py",
   "mimetype": "text/x-python",
   "name": "python",
   "nbconvert_exporter": "python",
   "pygments_lexer": "ipython2",
   "version": "2.7.10"
  }
 },
 "nbformat": 4,
 "nbformat_minor": 0
}
