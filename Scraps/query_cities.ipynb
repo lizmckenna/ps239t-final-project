{
 "cells": [
  {
   "cell_type": "code",
   "execution_count": 30,
   "metadata": {
    "collapsed": false
   },
   "outputs": [
    {
     "data": {
      "text/plain": [
       "9223372036854775807"
      ]
     },
     "execution_count": 30,
     "metadata": {},
     "output_type": "execute_result"
    }
   ],
   "source": [
    "import os\n",
    "import csv\n",
    "import sys\n",
    "\n",
    "csv.field_size_limit(sys.maxsize)"
   ]
  },
  {
   "cell_type": "code",
   "execution_count": 31,
   "metadata": {
    "collapsed": true
   },
   "outputs": [],
   "source": [
    "a_article = \"O site Conversa com Brasileiros, lançado em maio do ano passado pelo PSDB para \\\n",
    "ser um canal de diálogo dos políticos do partido com a população e para divulgar \\\n",
    "as informações e viagens do presidenciável Aécio Neves no momento em que ele \\\n",
    "iniciou sua corrida ao Palácio do Planalto, foi hackeado nesta quarta-feira, 23,\\\n",
    "em represália ao apoio do tucano à decretação da prisão de 23 manifestantes \\\n",
    "denunciados pelo Ministério Público do Rio de Janeiro que participaram de \\\n",
    "protestos violentos no Estado. \\\n",
    "A máscara-símbolo do grupo denominado Anonymous aparece na abertura do site \\\n",
    "www.conversacombrasileiros.com.br, num fundo preto, com a seguinte indagação:  \\\n",
    "Então, quer dizer que o senhor Aécio Neves apoia a repressão contra os  \\\n",
    "protestos populares? E, em seguida, completa: Ainda bem que políticos como ele  \\\n",
    "jamais governará (sic) este País. A assinatura é do Anonymous. Este grupo tem  \\\n",
    "participado das manifestações de rua em todo o País, desde o ano passado, e se  \\\n",
    "notabilizou pela invasão de alguns sites.  \\\n",
    "Ontem, em nota, Aécio Neves se posicionou a favor da prisão dos manifestantes  \\\n",
    "denunciados pelo Ministério Público, dizendo que ele e seu partido não podem  \\\n",
    "compactuar com o crime e com grupos que usam a violência para tomar à força as  \\\n",
    "ruas. A texto do tucano diz ainda que, logo após a prisão, surpreendentemente,  \\\n",
    "o PT divulgou uma nota de solidariedade aos presos, assinado por dirigentes do  \\\n",
    "partido, afirmando que a prisão é uma grave violação dos direitos e das  \\\n",
    "liberdades democráticas. Aécio questiona, na nota, a presidente Dilma Rousseff  \\\n",
    "(PT), sua adversária neste pleito, sobre sua posição e indaga se ela também  \\\n",
    "apoia os que usam a violência contra o patrimônio público, que pertence aos  \\\n",
    "brasileiros e atacam as instituições.\"\n",
    "city = \"Rio\""
   ]
  },
  {
   "cell_type": "code",
   "execution_count": 40,
   "metadata": {
    "collapsed": false
   },
   "outputs": [],
   "source": [
    "protests = []\n",
    "with open('protests.csv', 'rU') as csvfile: # open file\n",
    "    reader = csv.DictReader(csvfile) # create a reader\n",
    "    for row in reader: # loop through rows\n",
    "        protests.append(row) # append each row to the list"
   ]
  },
  {
   "cell_type": "code",
   "execution_count": 34,
   "metadata": {
    "collapsed": false
   },
   "outputs": [],
   "source": [
    "# protests[:5]"
   ]
  },
  {
   "cell_type": "code",
   "execution_count": 41,
   "metadata": {
    "collapsed": false
   },
   "outputs": [
    {
     "data": {
      "text/plain": [
       "list"
      ]
     },
     "execution_count": 41,
     "metadata": {},
     "output_type": "execute_result"
    }
   ],
   "source": [
    "type(protests)"
   ]
  },
  {
   "cell_type": "code",
   "execution_count": 42,
   "metadata": {
    "collapsed": false
   },
   "outputs": [
    {
     "data": {
      "text/plain": [
       "['', 'PUBLICATION', 'TITLE', 'COUNTRY', 'LENGTH', 'TEXT', 'DATE']"
      ]
     },
     "execution_count": 42,
     "metadata": {},
     "output_type": "execute_result"
    }
   ],
   "source": [
    "keys = protests[1].keys()\n",
    "keys"
   ]
  },
  {
   "cell_type": "code",
   "execution_count": 43,
   "metadata": {
    "collapsed": true
   },
   "outputs": [],
   "source": [
    "articles = [li['TEXT'] for li in protests]"
   ]
  },
  {
   "cell_type": "code",
   "execution_count": 45,
   "metadata": {
    "collapsed": false
   },
   "outputs": [],
   "source": [
    "#articles[:5]"
   ]
  },
  {
   "cell_type": "code",
   "execution_count": 28,
   "metadata": {
    "collapsed": false
   },
   "outputs": [],
   "source": [
    "def query_cities(article, city):\n",
    "\n",
    "    text = article.split()\n",
    "    if city in text:\n",
    "        takeIndex = text.index(city)\n",
    "        wc = len(text)\n",
    "        if takeIndex > 10 and takeIndex < wc - 10:\n",
    "            subset = ' '.join(text[takeIndex-10:takeIndex+10])\n",
    "        elif takeIndex < 10 and takeIndex < wc - 10:\n",
    "            subset = ' '.join(text[:takeIndex+10])\n",
    "        elif takeIndex > 10 and takeIndex > wc - 10:\n",
    "            subset = ' '.join(text[takeIndex-10:])\n",
    "\n",
    "        if 'protest' in subset:\n",
    "            return(True)\n",
    "        else:\n",
    "            return(False)"
   ]
  },
  {
   "cell_type": "code",
   "execution_count": 52,
   "metadata": {
    "collapsed": false
   },
   "outputs": [
    {
     "ename": "UnboundLocalError",
     "evalue": "local variable 'subset' referenced before assignment",
     "output_type": "error",
     "traceback": [
      "\u001b[0;31m---------------------------------------------------------------------------\u001b[0m",
      "\u001b[0;31mUnboundLocalError\u001b[0m                         Traceback (most recent call last)",
      "\u001b[0;32m<ipython-input-52-48a6241ed100>\u001b[0m in \u001b[0;36m<module>\u001b[0;34m()\u001b[0m\n\u001b[1;32m      1\u001b[0m \u001b[0;32mfor\u001b[0m \u001b[0mitem\u001b[0m \u001b[0;32min\u001b[0m \u001b[0marticles\u001b[0m\u001b[0;34m:\u001b[0m\u001b[0;34m\u001b[0m\u001b[0m\n\u001b[0;32m----> 2\u001b[0;31m     \u001b[0mquery_cities\u001b[0m\u001b[0;34m(\u001b[0m\u001b[0mitem\u001b[0m\u001b[0;34m,\u001b[0m \u001b[0;34m\"Rio\"\u001b[0m\u001b[0;34m)\u001b[0m\u001b[0;34m\u001b[0m\u001b[0m\n\u001b[0m",
      "\u001b[0;32m<ipython-input-28-9d22a76012b4>\u001b[0m in \u001b[0;36mquery_cities\u001b[0;34m(article, city)\u001b[0m\n\u001b[1;32m     12\u001b[0m             \u001b[0msubset\u001b[0m \u001b[0;34m=\u001b[0m \u001b[0;34m' '\u001b[0m\u001b[0;34m.\u001b[0m\u001b[0mjoin\u001b[0m\u001b[0;34m(\u001b[0m\u001b[0mtext\u001b[0m\u001b[0;34m[\u001b[0m\u001b[0mtakeIndex\u001b[0m\u001b[0;34m-\u001b[0m\u001b[0;36m10\u001b[0m\u001b[0;34m:\u001b[0m\u001b[0;34m]\u001b[0m\u001b[0;34m)\u001b[0m\u001b[0;34m\u001b[0m\u001b[0m\n\u001b[1;32m     13\u001b[0m \u001b[0;34m\u001b[0m\u001b[0m\n\u001b[0;32m---> 14\u001b[0;31m         \u001b[0;32mif\u001b[0m \u001b[0;34m'protest'\u001b[0m \u001b[0;32min\u001b[0m \u001b[0msubset\u001b[0m\u001b[0;34m:\u001b[0m\u001b[0;34m\u001b[0m\u001b[0m\n\u001b[0m\u001b[1;32m     15\u001b[0m             \u001b[0;32mreturn\u001b[0m\u001b[0;34m(\u001b[0m\u001b[0mTrue\u001b[0m\u001b[0;34m)\u001b[0m\u001b[0;34m\u001b[0m\u001b[0m\n\u001b[1;32m     16\u001b[0m         \u001b[0;32melse\u001b[0m\u001b[0;34m:\u001b[0m\u001b[0;34m\u001b[0m\u001b[0m\n",
      "\u001b[0;31mUnboundLocalError\u001b[0m: local variable 'subset' referenced before assignment"
     ]
    }
   ],
   "source": [
    "for item in articles:\n",
    "    query_cities(item, \"Rio\")"
   ]
  },
  {
   "cell_type": "code",
   "execution_count": 29,
   "metadata": {
    "collapsed": false
   },
   "outputs": [
    {
     "data": {
      "text/plain": [
       "True"
      ]
     },
     "execution_count": 29,
     "metadata": {},
     "output_type": "execute_result"
    }
   ],
   "source": [
    "query_cities(a_article, \"Rio\")"
   ]
  },
  {
   "cell_type": "code",
   "execution_count": null,
   "metadata": {
    "collapsed": true
   },
   "outputs": [],
   "source": [
    "for d in l:\n",
    "    d['Rio'] = query_cities(d['TEXT'],\"Rio\")\n",
    "    d['Curitiba'] = query_cities(d['TEXT'],\"Curitiba\")\n",
    "    d['Belo Horizonte'] = query_cities(d['TEXT'],\"Belo Horizonte\")\n",
    "    d['São Paulo'] = query_cities(d['TEXT'],\"São Paulo\")\n",
    "    d['Salvador'] = query_cities(d['TEXT'],\"Salvador\")\n",
    "    d['Porto Alegre'] = query_cities(d['TEXT'],\"Porto Alegre\")\n",
    "    d['Fortaleza'] = query_cities(d['TEXT'],\"Fortaleza\")   \n",
    "    d['Recife'] = query_cities(d['TEXT'],\"Recife\")\n",
    "    d['Campinas'] = query_cities(d['TEXT'],\"Campinas\")\n",
    "    d['Brasília'] = query_cities(d['TEXT'],\"Brasília\")"
   ]
  }
 ],
 "metadata": {
  "kernelspec": {
   "display_name": "Python 2",
   "language": "python",
   "name": "python2"
  },
  "language_info": {
   "codemirror_mode": {
    "name": "ipython",
    "version": 2
   },
   "file_extension": ".py",
   "mimetype": "text/x-python",
   "name": "python",
   "nbconvert_exporter": "python",
   "pygments_lexer": "ipython2",
   "version": "2.7.10"
  }
 },
 "nbformat": 4,
 "nbformat_minor": 0
}
