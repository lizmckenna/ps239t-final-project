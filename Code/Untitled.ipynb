{
 "cells": [
  {
   "cell_type": "code",
   "execution_count": 1,
   "metadata": {
    "collapsed": true
   },
   "outputs": [],
   "source": [
    "import os\n",
    "import csv\n",
    "import sys"
   ]
  },
  {
   "cell_type": "code",
   "execution_count": 3,
   "metadata": {
    "collapsed": false
   },
   "outputs": [],
   "source": [
    "merged = []\n",
    "\n",
    "# open file\n",
    "with open('analysis_dataset.csv', 'rU') as csvfile: \n",
    "    \n",
    "    # create a reader\n",
    "    reader = csv.DictReader(csvfile) \n",
    "    \n",
    "    # loop through rows\n",
    "    for row in reader: \n",
    "        \n",
    "        # append each row to the list\n",
    "        merged.append(row) "
   ]
  },
  {
   "cell_type": "code",
   "execution_count": 4,
   "metadata": {
    "collapsed": false
   },
   "outputs": [
    {
     "data": {
      "text/plain": [
       "['date', 'city', 'publication', 'text']"
      ]
     },
     "execution_count": 4,
     "metadata": {},
     "output_type": "execute_result"
    }
   ],
   "source": [
    "keys = merged[1].keys()\n",
    "keys"
   ]
  },
  {
   "cell_type": "code",
   "execution_count": null,
   "metadata": {
    "collapsed": true
   },
   "outputs": [],
   "source": [
    "rows = np.random.choice(df.index.values, 10)\n",
    "sampled_df = df.ix[rows]"
   ]
  },
  {
   "cell_type": "code",
   "execution_count": null,
   "metadata": {
    "collapsed": true
   },
   "outputs": [],
   "source": [
    "def irr_sample(city, number):\n",
    "    \n",
    "    \n",
    "    text = article.split()\n",
    "    if city in text:\n",
    "        takeIndex = text.index(city)\n",
    "        wc = len(text)\n",
    "        if takeIndex > 30 and takeIndex < wc - 30:\n",
    "            subset = ' '.join(text[takeIndex-30:takeIndex+30])\n",
    "        elif takeIndex < 30 and takeIndex < wc - 30:\n",
    "            subset = ' '.join(text[:takeIndex+30])\n",
    "        elif takeIndex > 30 and takeIndex > wc - 30:\n",
    "            subset = ' '.join(text[takeIndex-30:])\n",
    "\n",
    "        if 'protest'or 'manifest' in subset:\n",
    "            return(1)\n",
    "    else:\n",
    "        return(0)"
   ]
  },
  {
   "cell_type": "code",
   "execution_count": null,
   "metadata": {
    "collapsed": true
   },
   "outputs": [],
   "source": [
    "irr.sample <- function(x,y)\n",
    "{\n",
    "  city.subset <- subset(mydata, city=='x')\n",
    "  city.irr <- city.subset[sample(1:nrow(city.subset), y, replace = TRUE)]\n",
    "}\n"
   ]
  }
 ],
 "metadata": {
  "kernelspec": {
   "display_name": "Python 2",
   "language": "python",
   "name": "python2"
  },
  "language_info": {
   "codemirror_mode": {
    "name": "ipython",
    "version": 2
   },
   "file_extension": ".py",
   "mimetype": "text/x-python",
   "name": "python",
   "nbconvert_exporter": "python",
   "pygments_lexer": "ipython2",
   "version": "2.7.10"
  }
 },
 "nbformat": 4,
 "nbformat_minor": 0
}
