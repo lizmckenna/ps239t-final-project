{
 "cells": [
  {
   "cell_type": "code",
   "execution_count": 1,
   "metadata": {
    "collapsed": false,
    "scrolled": true
   },
   "outputs": [
    {
     "data": {
      "text/plain": [
       "131072"
      ]
     },
     "execution_count": 1,
     "metadata": {},
     "output_type": "execute_result"
    }
   ],
   "source": [
    "import os\n",
    "import csv\n",
    "import sys\n",
    "\n",
    "csv.field_size_limit(sys.maxsize)"
   ]
  },
  {
   "cell_type": "markdown",
   "metadata": {},
   "source": [
    "###1. Load data: read in csv as a list of dictionaries"
   ]
  },
  {
   "cell_type": "code",
   "execution_count": 2,
   "metadata": {
    "collapsed": false
   },
   "outputs": [],
   "source": [
    "protests = []\n",
    "with open('protests.csv', 'rU') as csvfile: # open file\n",
    "    reader = csv.DictReader(csvfile) # create a reader\n",
    "    for row in reader: # loop through rows\n",
    "        protests.append(row) # append each row to the list"
   ]
  },
  {
   "cell_type": "code",
   "execution_count": 3,
   "metadata": {
    "collapsed": false
   },
   "outputs": [],
   "source": [
    "#protests[:2]"
   ]
  },
  {
   "cell_type": "code",
   "execution_count": 4,
   "metadata": {
    "collapsed": false
   },
   "outputs": [
    {
     "data": {
      "text/plain": [
       "list"
      ]
     },
     "execution_count": 4,
     "metadata": {},
     "output_type": "execute_result"
    }
   ],
   "source": [
    "type(protests)"
   ]
  },
  {
   "cell_type": "code",
   "execution_count": 5,
   "metadata": {
    "collapsed": false
   },
   "outputs": [
    {
     "data": {
      "text/plain": [
       "['', 'PUBLICATION', 'TITLE', 'COUNTRY', 'LENGTH', 'TEXT', 'DATE']"
      ]
     },
     "execution_count": 5,
     "metadata": {},
     "output_type": "execute_result"
    }
   ],
   "source": [
    "keys = protests[1].keys()\n",
    "keys"
   ]
  },
  {
   "cell_type": "markdown",
   "metadata": {},
   "source": [
    "###2. Extract text of articles to prepare to loop through"
   ]
  },
  {
   "cell_type": "code",
   "execution_count": 6,
   "metadata": {
    "collapsed": true
   },
   "outputs": [],
   "source": [
    "articles = [li['TEXT'] for li in protests]"
   ]
  },
  {
   "cell_type": "code",
   "execution_count": 7,
   "metadata": {
    "collapsed": false
   },
   "outputs": [
    {
     "data": {
      "text/plain": [
       "1429"
      ]
     },
     "execution_count": 7,
     "metadata": {},
     "output_type": "execute_result"
    }
   ],
   "source": [
    "#articles[:2]\n",
    "len(articles)"
   ]
  },
  {
   "cell_type": "markdown",
   "metadata": {},
   "source": [
    "###3. Write function that passes two arguments: article and city\n",
    "Function will search the text of the article for the city of interest, identify its index, and then search for the root words \"protest\" or its synonym \"manifest\" (short for manifestação, and permutations thereof) within 30 words of the city name."
   ]
  },
  {
   "cell_type": "code",
   "execution_count": 45,
   "metadata": {
    "collapsed": true
   },
   "outputs": [],
   "source": [
    "def query_cities(article, city):\n",
    "\n",
    "    text = article.split()\n",
    "    if city in text:\n",
    "        takeIndex = text.index(city)\n",
    "        wc = len(text)\n",
    "        if takeIndex > 30 and takeIndex < wc - 30:\n",
    "            subset = ' '.join(text[takeIndex-30:takeIndex+30])\n",
    "        elif takeIndex < 30 and takeIndex < wc - 30:\n",
    "            subset = ' '.join(text[:takeIndex+30])\n",
    "        elif takeIndex > 30 and takeIndex > wc - 30:\n",
    "            subset = ' '.join(text[takeIndex-30:])\n",
    "\n",
    "        if 'protest'or 'manifest' in subset:\n",
    "            return(1)\n",
    "    else:\n",
    "        return(0)"
   ]
  },
  {
   "cell_type": "markdown",
   "metadata": {},
   "source": [
    "###4. Play with some test cases to see what the function's blind spots might be"
   ]
  },
  {
   "cell_type": "code",
   "execution_count": 46,
   "metadata": {
    "collapsed": false,
    "scrolled": false
   },
   "outputs": [
    {
     "name": "stdout",
     "output_type": "stream",
     "text": [
      "Para o antropólogo Paulo Storani, ex-capitão do Batalhão de Operações Especiais (Bope) da PM, as autoridades de segurança estão perdendo a \"guerra da comunicação\" na defesa do programa das UPPs do Rio. Recentemente está se tornando comum protestos de moradores de favelas pacificadas exigindo a retirada das UPPs destes locais. Isso ocorreu nas várias manifestações de moradores do Pavão-Pavãozinho, em Copacabana (zona sul), contra a morte do dançarino do programa Esquenta, da TV Globo Douglas Rafael Pereira. \"Nestes protestos estão surgindo várias faixas com os dizeres 'fora UPP'. Será que isso é uma exigência da maioria das pessoas que vivem ali, ou apenas de um grupo de moradores que ficaram sem renda com a saída dos traficantes? É sabido que muitas pessoas que não necessariamente estavam ligadas ao tráfico eram contratadas para fazer a endolação, ou seja, preparar a droga para venda\", explica Storani. \"Está faltando coragem de as autoridades assumirem os erros do projeto, talvez por ser ano eleitoral. Mas a omissão abre espaço para alguém falar. É o que está acontecendo com a minoria que prega o fim das UPPs, que inegavelmente reduziram as taxas de criminalidade e devolveram o controle desses territórios para o Estado\". Além disso, na opinião do especialista, a raiz da crise das UPPs está no fato de o programa ter ficado pela metade. \"A pacificação tem três fases: intervenção policial para retomada do território; ocupação social para integrar as favelas à cidade formal; e a retirada da polícia. Infelizmente, até agora apenas a primeira fase se concretizou\", disse.\n"
     ]
    }
   ],
   "source": [
    "test_article = articles[339]\n",
    "print test_article"
   ]
  },
  {
   "cell_type": "code",
   "execution_count": 47,
   "metadata": {
    "collapsed": false,
    "scrolled": true
   },
   "outputs": [
    {
     "name": "stdout",
     "output_type": "stream",
     "text": [
      "Os deputados estaduais de São Paulo aprovaram em votação simbólica, na noite de anteontem, um projeto que proíbe \"o uso de máscara ou qualquer outro paramento que possa ocultar o rosto da pessoa, ou que dificulta ou impeça a sua identificação\" nos protestos de rua. De autoria do deputado Campos Machado (PTB), o projeto de lei só exclui da proibição as \"manifestações e as reuniões culturais no calendário oficial do Estado\". O objetivo é inibir a atuação de manifestantes mascarados ligados à tática black bloc. Ele segue para o governador Geraldo Alckmin (PDSB), que tem o prazo de 15 dias para sancioná-lo ou vetá-lo. Ainda conforme o texto, a plataforma principal de reivindicação desse grupo é \"destruir, danificar, explodir, queimar, saquear e aterrorizar\". \"Tal comportamento tem esvaziado as legítimas manifestações e prejudicado o direito dos demais cidadãos de bem de se manifestar. Além, por óbvio, de deixar rastros de pânico e destruição e, consequentemente, causando prejuízos ao erário público\", afirma o texto do projeto de lei. A Polícia Civil de São Paulo não conseguiu até hoje denunciar nenhum dos mascarados que promoveram depredações na cidade em 2013. A análise aberta pelo Departamento Estadual de Investigações Criminais (Deic) ainda está em andamento. O processo dos black blocs se transformou em um cadastro com o nome de 730 pessoas que participaram de manifestações. A lista tem integrantes do Movimento Passe Livre (MPL), de movimentos sociais das áreas de saúde e educação, além de manifestantes contra a Copa. As informações são do jornal  O Estado de S. Paulo.\n"
     ]
    }
   ],
   "source": [
    "test_article2 = articles[1229]\n",
    "print test_article2"
   ]
  },
  {
   "cell_type": "code",
   "execution_count": 48,
   "metadata": {
    "collapsed": false
   },
   "outputs": [
    {
     "name": "stdout",
     "output_type": "stream",
     "text": [
      "O clima de disputa política entre a presidente Dilma Rousseff (PT) e o ex-governador de Pernambuco e presidenciável Eduardo Campos (PSB) é expresso logo na entrada de Serra Talhada, município sertanejo a 415 quilômetros do Recife, onde a presidente inaugura nesta tarde de segunda-feira, 14, primeira etapa da Adutora do Pajeú - obra que já havia sido parcialmente inaugurada por ela e pelo agora opositor Campos, em março do ano passado. Quase lado a lado, dois outdoors expressam feitos dos dois governos: \"Dilma é apoio aos agricultores, obrigado pelos equipamentos\", diz um, enquanto o outro fala de \"mais uma ação do governo do Estado na saúde\", com a chegada de medicamentos excepcionais. \"O clima está acirrado\", reconhece o prefeito do PT, Luciano Duque, que disse ter pago, do próprio bolso, três outdoors para recepcionar a presidente. Cada um custou R$ 800,00. O outro aborda o programa Minha Casa, Minha Vida, com 899 casas já construídas, e o terceiro, a atenção ao ensino infantil e fundamental. Duque providenciou os outdoors na última sexta-feira, quando a vinda da presidente foi confirmada. \"É uma forma de gratidão\". Ele admitiu que não havia agenda prévia da visita presidencial e garantiu que um protesto de professores, realizado na porta da prefeitura pela manhã, nada tinha a ver com a presença da presidente. Um dos cartazes dos manifestantes que dizia \"Presidente Dilma, aqui professor ganha R$ 1 mil\" foi logo retirado com a chegada da reportagem. Os professores querem aumento de 15% no salário que é 7,7% acima do piso nacional. \"O protesto já estava agendado, foi uma coincidência\", explicou ele, ao negar que a primeira etapa da adutora do Pajeú já houvesse sido inaugurada. Ele frisou que somente com a inauguração, hoje, do terceiro trecho, é que a primeira etapa estará realmente concluída. O primeiro trecho - que vai de Floresta a Serra Talhada, com extensão de 118 quilômetros - foi inaugurado no dia 25 de março do ano passado, em um evento com a presença de Dilma e do ex-governador Eduardo Campos, no seu município. O segundo, em setembro, de Carnaíba a Flores, de 18 quilômetros, foi inaugurado por Campos e pelo ex-ministro da Integração Nacional, Fernando Bezerra Coelho (PSB), ainda na base aliada. O terceiro trecho a ser inaugurado nesta tarde tem 60 quilômetros e vai de Carnaíba a Afogados da Ingazeira. O prefeito de Afogados da Ingazeira e também presidente da Associação dos Municípios de Pernambuco, José Patriota (PSB), agora também na oposição, estranhou o fato da inauguração não ser no seu município. \"Seria o mais lógico\". Ele observou ser \"raro\" um presidente ir duas vezes ao mesmo lugar para uma inauguração. A chegada da presidente no Estado do provável adversário no mesmo dia em que Campos anuncia Marina Silva como candidata a vice na chapa PSB-Rede, em Brasília, é avaliada como uma forma de dividir as atenções e já mostrar força do governo federal em Pernambuco. Desencontros A disputa política em Serra Talhada se manifesta também em informações desencontradas. O prefeito destacou ter vencido as eleições municipais contra Campos, o grupo do deputado Federal Inocêncio Oliveira (PR) e do senador Armando Monteiro Neto (PTB) - agora pré-candidato ao governo de Pernambuco com apoio do PT. Nos seus cálculos, 11 dos 15 vereadores apoiam seu governo, que tem ampla maioria na Câmara Municipal. O vereador Leirson Magalhães, do PSB, assegura que a oposição tem nove vereadores ao lado da candidatura de Campos e contra a reeleição de Dilma. O fato de a adutora do Pajeú não ter resolvido completamente a falta de água no município, que ainda enfrenta racionamento, é outro ponto de conflito. \"Água tem, o que falta é a Compesa (empresa estadual de abastecimento) adequar a infraestrutura para as pessoas poderem receber a água\", acusa o prefeito. \"Há dois anos a Compesa vem trabalhando na expansão da rede de distribuição, o problema é que Serra Talhada recebe penas 30% da água da adutora\", rebate Magalhães. A população ainda se mostra indiferente à disputa eleitoral. \"Isso é coisa entre eles, político é engraçado\", disse o ex-locutor de rádio Roberto Claudio, ao lembrar que até pouco tempo, todos que agora se criticam estavam juntos.\n"
     ]
    }
   ],
   "source": [
    "test_article3 = articles[201]\n",
    "print test_article3"
   ]
  },
  {
   "cell_type": "code",
   "execution_count": 59,
   "metadata": {
    "collapsed": false,
    "scrolled": true
   },
   "outputs": [
    {
     "data": {
      "text/plain": [
       "0"
      ]
     },
     "execution_count": 59,
     "metadata": {},
     "output_type": "execute_result"
    }
   ],
   "source": [
    "#the function fails to find the word \"protest\" within 30 words of the city \"Rio\" in test_article\n",
    "query_cities(test_article, \"Rio\") "
   ]
  },
  {
   "cell_type": "code",
   "execution_count": 60,
   "metadata": {
    "collapsed": false
   },
   "outputs": [
    {
     "data": {
      "text/plain": [
       "1"
      ]
     },
     "execution_count": 60,
     "metadata": {},
     "output_type": "execute_result"
    }
   ],
   "source": [
    "#referring to the text, we see that this is because Rio is at the end of a sentance and has a '.' after it \\\n",
    "#when we add said period, the function works\n",
    "query_cities(test_article,\"Rio.\")"
   ]
  },
  {
   "cell_type": "code",
   "execution_count": 61,
   "metadata": {
    "collapsed": false
   },
   "outputs": [
    {
     "data": {
      "text/plain": [
       "0"
      ]
     },
     "execution_count": 61,
     "metadata": {},
     "output_type": "execute_result"
    }
   ],
   "source": [
    "#the function fails to find the word \"protest\" within 30 words of the compound city \"São Paulo\" in test_article2\n",
    "query_cities(test_article2, \"São Paulo\")"
   ]
  },
  {
   "cell_type": "code",
   "execution_count": 62,
   "metadata": {
    "collapsed": false
   },
   "outputs": [
    {
     "data": {
      "text/plain": [
       "1"
      ]
     },
     "execution_count": 62,
     "metadata": {},
     "output_type": "execute_result"
    }
   ],
   "source": [
    "#but correctly identifies it for the single word \"Paulo\"\n",
    "query_cities(test_article2, \"Paulo\")"
   ]
  },
  {
   "cell_type": "code",
   "execution_count": 63,
   "metadata": {
    "collapsed": false
   },
   "outputs": [
    {
     "data": {
      "text/plain": [
       "1"
      ]
     },
     "execution_count": 63,
     "metadata": {},
     "output_type": "execute_result"
    }
   ],
   "source": [
    "# and for the single word \"São\", which shows that the function is not accent sensitive, either\n",
    "query_cities(test_article2, \"São\")"
   ]
  },
  {
   "cell_type": "code",
   "execution_count": 64,
   "metadata": {
    "collapsed": false,
    "scrolled": true
   },
   "outputs": [
    {
     "data": {
      "text/plain": [
       "0"
      ]
     },
     "execution_count": 64,
     "metadata": {},
     "output_type": "execute_result"
    }
   ],
   "source": [
    "# test case 3 also confirms that the accents are fine (Brasília is recognized just the same) \\\n",
    "# but reveals the same punctuation problem as case one, which missed \"Rio.\" \\\n",
    "# This one misses \"Brasília,\"\n",
    "query_cities(test_article3, \"Brasília\")"
   ]
  },
  {
   "cell_type": "code",
   "execution_count": 65,
   "metadata": {
    "collapsed": false
   },
   "outputs": [
    {
     "data": {
      "text/plain": [
       "1"
      ]
     },
     "execution_count": 65,
     "metadata": {},
     "output_type": "execute_result"
    }
   ],
   "source": [
    "query_cities(test_article3, \"Brasília,\")"
   ]
  },
  {
   "cell_type": "markdown",
   "metadata": {},
   "source": [
    "###Review special cases that I'll need to account for before running the for loop through all the articles:\n",
    "\n",
    "| Condition       | Example          | Works?  |\n",
    "|------------- |-------------| -----|\n",
    "| accent      | \"Brasília\" | yes |\n",
    "| punctuation      | \"Rio.\"      | no    |\n",
    "| compound | \"São Paulo\"      |    no |"
   ]
  },
  {
   "cell_type": "markdown",
   "metadata": {},
   "source": [
    "###5. Call function on each of the 10 cities\n",
    "***Need to figure out how to store these to later cbind to the original protests.csv...***"
   ]
  },
  {
   "cell_type": "code",
   "execution_count": 71,
   "metadata": {
    "collapsed": false
   },
   "outputs": [],
   "source": [
    "for item in articles:\n",
    "    query_cities(item, \"Rio\")"
   ]
  },
  {
   "cell_type": "code",
   "execution_count": 72,
   "metadata": {
    "collapsed": true
   },
   "outputs": [],
   "source": [
    "for item in articles:\n",
    "    query_cities(item, \"Curitiba\")"
   ]
  },
  {
   "cell_type": "code",
   "execution_count": 73,
   "metadata": {
    "collapsed": true
   },
   "outputs": [],
   "source": [
    "for item in articles:\n",
    "    query_cities(item, \"Belo Horizonte\")"
   ]
  },
  {
   "cell_type": "code",
   "execution_count": 74,
   "metadata": {
    "collapsed": true
   },
   "outputs": [],
   "source": [
    "for item in articles:\n",
    "    query_cities(item, \"São Paulo\")"
   ]
  },
  {
   "cell_type": "code",
   "execution_count": 75,
   "metadata": {
    "collapsed": true
   },
   "outputs": [],
   "source": [
    "for item in articles:\n",
    "    query_cities(item, \"Campinas\")"
   ]
  },
  {
   "cell_type": "code",
   "execution_count": 76,
   "metadata": {
    "collapsed": true
   },
   "outputs": [],
   "source": [
    "for item in articles:\n",
    "    query_cities(item, \"Salvador\")"
   ]
  },
  {
   "cell_type": "code",
   "execution_count": 77,
   "metadata": {
    "collapsed": true
   },
   "outputs": [],
   "source": [
    "for item in articles:\n",
    "    query_cities(item, \"Recife\")"
   ]
  },
  {
   "cell_type": "code",
   "execution_count": 78,
   "metadata": {
    "collapsed": true
   },
   "outputs": [],
   "source": [
    "for item in articles:\n",
    "    query_cities(item, \"Fortaleza\")"
   ]
  },
  {
   "cell_type": "code",
   "execution_count": 79,
   "metadata": {
    "collapsed": true
   },
   "outputs": [],
   "source": [
    "for item in articles:\n",
    "    query_cities(item, \"Brasília\")"
   ]
  },
  {
   "cell_type": "code",
   "execution_count": 80,
   "metadata": {
    "collapsed": true
   },
   "outputs": [],
   "source": [
    "for item in articles:\n",
    "    query_cities(item, \"Porto Alegre\")"
   ]
  },
  {
   "cell_type": "markdown",
   "metadata": {},
   "source": [
    "###6. Make city dictionary\n",
    "if query_cities returns True (\"1\")\n",
    "add a new Key:"
   ]
  },
  {
   "cell_type": "code",
   "execution_count": 154,
   "metadata": {
    "collapsed": false
   },
   "outputs": [
    {
     "ename": "TypeError",
     "evalue": "string indices must be integers, not str",
     "output_type": "error",
     "traceback": [
      "\u001b[0;31m---------------------------------------------------------------------------\u001b[0m",
      "\u001b[0;31mTypeError\u001b[0m                                 Traceback (most recent call last)",
      "\u001b[0;32m<ipython-input-154-5c41b3b3389d>\u001b[0m in \u001b[0;36m<module>\u001b[0;34m()\u001b[0m\n\u001b[1;32m      1\u001b[0m \u001b[0;32mfor\u001b[0m \u001b[0md\u001b[0m \u001b[0;32min\u001b[0m \u001b[0marticles\u001b[0m\u001b[0;34m:\u001b[0m\u001b[0;34m\u001b[0m\u001b[0m\n\u001b[0;32m----> 2\u001b[0;31m     \u001b[0md\u001b[0m\u001b[0;34m[\u001b[0m\u001b[0;34m'Rio'\u001b[0m\u001b[0;34m]\u001b[0m \u001b[0;34m=\u001b[0m \u001b[0mquery_cities\u001b[0m\u001b[0;34m(\u001b[0m\u001b[0md\u001b[0m\u001b[0;34m[\u001b[0m\u001b[0;34m'TEXT'\u001b[0m\u001b[0;34m]\u001b[0m\u001b[0;34m,\u001b[0m\u001b[0;34m\"Rio\"\u001b[0m\u001b[0;34m)\u001b[0m\u001b[0;34m\u001b[0m\u001b[0m\n\u001b[0m\u001b[1;32m      3\u001b[0m     \u001b[0md\u001b[0m\u001b[0;34m[\u001b[0m\u001b[0;34m'Curitiba'\u001b[0m\u001b[0;34m]\u001b[0m \u001b[0;34m=\u001b[0m \u001b[0mquery_cities\u001b[0m\u001b[0;34m(\u001b[0m\u001b[0md\u001b[0m\u001b[0;34m[\u001b[0m\u001b[0;34m'TEXT'\u001b[0m\u001b[0;34m]\u001b[0m\u001b[0;34m,\u001b[0m\u001b[0;34m\"Curitiba\"\u001b[0m\u001b[0;34m)\u001b[0m\u001b[0;34m\u001b[0m\u001b[0m\n\u001b[1;32m      4\u001b[0m     \u001b[0md\u001b[0m\u001b[0;34m[\u001b[0m\u001b[0;34m'Belo Horizonte'\u001b[0m\u001b[0;34m]\u001b[0m \u001b[0;34m=\u001b[0m \u001b[0mquery_cities\u001b[0m\u001b[0;34m(\u001b[0m\u001b[0md\u001b[0m\u001b[0;34m[\u001b[0m\u001b[0;34m'TEXT'\u001b[0m\u001b[0;34m]\u001b[0m\u001b[0;34m,\u001b[0m\u001b[0;34m\"Belo Horizonte\"\u001b[0m\u001b[0;34m)\u001b[0m\u001b[0;34m\u001b[0m\u001b[0m\n\u001b[1;32m      5\u001b[0m     \u001b[0md\u001b[0m\u001b[0;34m[\u001b[0m\u001b[0;34m'São Paulo'\u001b[0m\u001b[0;34m]\u001b[0m \u001b[0;34m=\u001b[0m \u001b[0mquery_cities\u001b[0m\u001b[0;34m(\u001b[0m\u001b[0md\u001b[0m\u001b[0;34m[\u001b[0m\u001b[0;34m'TEXT'\u001b[0m\u001b[0;34m]\u001b[0m\u001b[0;34m,\u001b[0m\u001b[0;34m\"São Paulo\"\u001b[0m\u001b[0;34m)\u001b[0m\u001b[0;34m\u001b[0m\u001b[0m\n",
      "\u001b[0;31mTypeError\u001b[0m: string indices must be integers, not str"
     ]
    }
   ],
   "source": [
    "for d in articles:\n",
    "    d['Rio'] = query_cities(d['TEXT'],\"Rio\")\n",
    "    d['Curitiba'] = query_cities(d['TEXT'],\"Curitiba\")\n",
    "    d['Belo Horizonte'] = query_cities(d['TEXT'],\"Belo Horizonte\")\n",
    "    d['São Paulo'] = query_cities(d['TEXT'],\"São Paulo\")\n",
    "    d['Salvador'] = query_cities(d['TEXT'],\"Salvador\")\n",
    "    d['Porto Alegre'] = query_cities(d['TEXT'],\"Porto Alegre\")\n",
    "    d['Fortaleza'] = query_cities(d['TEXT'],\"Fortaleza\")   \n",
    "    d['Recife'] = query_cities(d['TEXT'],\"Recife\")\n",
    "    d['Campinas'] = query_cities(d['TEXT'],\"Campinas\")\n",
    "    d['Brasília'] = query_cities(d['TEXT'],\"Brasília\")"
   ]
  },
  {
   "cell_type": "markdown",
   "metadata": {
    "collapsed": true
   },
   "source": [
    "###7. Write CSV"
   ]
  },
  {
   "cell_type": "code",
   "execution_count": 67,
   "metadata": {
    "collapsed": false
   },
   "outputs": [
    {
     "ename": "NameError",
     "evalue": "name 'cities' is not defined",
     "output_type": "error",
     "traceback": [
      "\u001b[0;31m---------------------------------------------------------------------------\u001b[0m",
      "\u001b[0;31mNameError\u001b[0m                                 Traceback (most recent call last)",
      "\u001b[0;32m<ipython-input-67-01970d6aca8e>\u001b[0m in \u001b[0;36m<module>\u001b[0;34m()\u001b[0m\n\u001b[1;32m      1\u001b[0m \u001b[0;31m#writing column headings\u001b[0m\u001b[0;34m\u001b[0m\u001b[0;34m\u001b[0m\u001b[0m\n\u001b[0;32m----> 2\u001b[0;31m \u001b[0mkeys\u001b[0m \u001b[0;34m=\u001b[0m \u001b[0mcities\u001b[0m\u001b[0;34m[\u001b[0m\u001b[0;36m0\u001b[0m\u001b[0;34m]\u001b[0m\u001b[0;34m.\u001b[0m\u001b[0mkeys\u001b[0m\u001b[0;34m(\u001b[0m\u001b[0;34m)\u001b[0m\u001b[0;34m\u001b[0m\u001b[0m\n\u001b[0m\u001b[1;32m      3\u001b[0m \u001b[0mkeys\u001b[0m\u001b[0;34m\u001b[0m\u001b[0m\n",
      "\u001b[0;31mNameError\u001b[0m: name 'cities' is not defined"
     ]
    }
   ],
   "source": [
    "#writing column headings\n",
    "keys = cities[0].keys()\n",
    "keys"
   ]
  },
  {
   "cell_type": "code",
   "execution_count": 68,
   "metadata": {
    "collapsed": false
   },
   "outputs": [
    {
     "ename": "NameError",
     "evalue": "name 'cities' is not defined",
     "output_type": "error",
     "traceback": [
      "\u001b[0;31m---------------------------------------------------------------------------\u001b[0m",
      "\u001b[0;31mNameError\u001b[0m                                 Traceback (most recent call last)",
      "\u001b[0;32m<ipython-input-68-c51ed37c5247>\u001b[0m in \u001b[0;36m<module>\u001b[0;34m()\u001b[0m\n\u001b[1;32m      3\u001b[0m     \u001b[0mdict_writer\u001b[0m \u001b[0;34m=\u001b[0m \u001b[0mcsv\u001b[0m\u001b[0;34m.\u001b[0m\u001b[0mDictWriter\u001b[0m\u001b[0;34m(\u001b[0m\u001b[0moutput_file\u001b[0m\u001b[0;34m,\u001b[0m \u001b[0mkeys\u001b[0m\u001b[0;34m)\u001b[0m\u001b[0;34m\u001b[0m\u001b[0m\n\u001b[1;32m      4\u001b[0m     \u001b[0mdict_writer\u001b[0m\u001b[0;34m.\u001b[0m\u001b[0mwriteheader\u001b[0m\u001b[0;34m(\u001b[0m\u001b[0;34m)\u001b[0m\u001b[0;34m\u001b[0m\u001b[0m\n\u001b[0;32m----> 5\u001b[0;31m     \u001b[0mdict_writer\u001b[0m\u001b[0;34m.\u001b[0m\u001b[0mwriterows\u001b[0m\u001b[0;34m(\u001b[0m\u001b[0mcities\u001b[0m\u001b[0;34m)\u001b[0m\u001b[0;34m\u001b[0m\u001b[0m\n\u001b[0m",
      "\u001b[0;31mNameError\u001b[0m: name 'cities' is not defined"
     ]
    }
   ],
   "source": [
    "#writing the rest\n",
    "with open('../Data/upr-info.csv', 'wb') as output_file:\n",
    "    dict_writer = csv.DictWriter(output_file, keys)\n",
    "    dict_writer.writeheader()\n",
    "    dict_writer.writerows(cities)"
   ]
  },
  {
   "cell_type": "code",
   "execution_count": null,
   "metadata": {
    "collapsed": true
   },
   "outputs": [],
   "source": []
  }
 ],
 "metadata": {
  "kernelspec": {
   "display_name": "Python 2",
   "language": "python",
   "name": "python2"
  },
  "language_info": {
   "codemirror_mode": {
    "name": "ipython",
    "version": 2
   },
   "file_extension": ".py",
   "mimetype": "text/x-python",
   "name": "python",
   "nbconvert_exporter": "python",
   "pygments_lexer": "ipython2",
   "version": "2.7.10"
  }
 },
 "nbformat": 4,
 "nbformat_minor": 0
}
