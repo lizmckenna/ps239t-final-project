{
 "cells": [
  {
   "cell_type": "code",
   "execution_count": 11,
   "metadata": {
    "collapsed": false
   },
   "outputs": [
    {
     "ename": "ImportError",
     "evalue": "No module named mechanize",
     "output_type": "error",
     "traceback": [
      "\u001b[0;31m---------------------------------------------------------------------------\u001b[0m",
      "\u001b[0;31mImportError\u001b[0m                               Traceback (most recent call last)",
      "\u001b[0;32m<ipython-input-11-92bf29d7240c>\u001b[0m in \u001b[0;36m<module>\u001b[0;34m()\u001b[0m\n\u001b[1;32m      1\u001b[0m \u001b[0;32mimport\u001b[0m \u001b[0murllib\u001b[0m\u001b[0;34m\u001b[0m\u001b[0m\n\u001b[0;32m----> 2\u001b[0;31m \u001b[0;32mimport\u001b[0m \u001b[0mmechanize\u001b[0m\u001b[0;34m\u001b[0m\u001b[0m\n\u001b[0m\u001b[1;32m      3\u001b[0m \u001b[0;32mfrom\u001b[0m \u001b[0mbs4\u001b[0m \u001b[0;32mimport\u001b[0m \u001b[0mBeautifulSoup\u001b[0m\u001b[0;34m\u001b[0m\u001b[0m\n\u001b[1;32m      4\u001b[0m \u001b[0;32mimport\u001b[0m \u001b[0mre\u001b[0m\u001b[0;34m\u001b[0m\u001b[0m\n\u001b[1;32m      5\u001b[0m \u001b[0;32mimport\u001b[0m \u001b[0mjson\u001b[0m\u001b[0;34m\u001b[0m\u001b[0m\n",
      "\u001b[0;31mImportError\u001b[0m: No module named mechanize"
     ]
    }
   ],
   "source": [
    "import urllib\n",
    "import mechanize\n",
    "from bs4 import BeautifulSoup\n",
    "import re\n",
    "import json"
   ]
  },
  {
   "cell_type": "code",
   "execution_count": 8,
   "metadata": {
    "collapsed": false
   },
   "outputs": [],
   "source": [
    "def queGoogleLinks(link, page):\n",
    "    \n",
    "\tbr = mechanize.Browser()\n",
    "\tbr.set_handle_robots(False)\n",
    "\tbr.addheaders = [('User-agent', 'chrome')]\n",
    "\n",
    "\t#replaces any spaces with plus sings in search term\n",
    "\tterm = link.replace(\" \", \"+\")\n",
    "    \n",
    "\t#url for Google News \n",
    "\t#pages still need to be worked on but for now the first page results are always shown with '0'\n",
    "\tquery = \"http://www.google.com/search?num=10&hl=en&gl=us&tbm=nws&authuser=0&q=\"+ term +\"&oq=\"+ term + \"&gws_rd=ssl#authuser=0&gl=us&hl=en&q=FMD&&start=\"+page+\"&tbm=nws\"\n",
    "\thtmltext = br.open(query).read()\n",
    "\tsoup = BeautifulSoup(htmltext)\n",
    "\tsearch = soup.findAll('div', attrs={'id':'search'})\n",
    "\tsearchtext =  str(search[0])\n",
    "\tsoup1 = BeautifulSoup(searchtext)\n",
    "\tlist_items = soup1.findAll('li')\n",
    "\tspan_items = soup1.findAll('span')\n",
    "\t\n",
    "    #regex to find links between 'q=' and '&amp'\n",
    "\tregex = \"q(?=.*).*?&amp\"\n",
    "    \n",
    "\t#regex to parse article titles\n",
    "\tregex_title = '\">(?!.>.*).*?</a'\n",
    "\tregex_span = '-(?!-.*).*?</span>'\n",
    "\tpattern = re.compile(regex)\n",
    "\tpattern_title = re.compile(regex_title)\n",
    "\tpattern_date = re.compile(regex_span)\n",
    "\tlinky = []\n",
    "\tcool_title = []\n",
    "\tdate_list = []\n",
    "\t\n",
    "\tfor li in list_items:\n",
    "\t\tsoup2 = BeautifulSoup(str(li))\n",
    "\t\tlinks = soup2.findAll('a')\n",
    "\t\tsource_link = links[0]\n",
    "\t\tsource_url = re.findall(pattern, str(source_link))\n",
    "\t\tsource_title = re.findall(pattern_title, str(source_link))\n",
    "\t\ttitle = source_title[0].replace('\">', \"\").replace(\"</a\", \"\").replace(\"<b>\", \"\").replace(\"</b>\", \"\")\n",
    "\t\turl = source_url[0].replace(\"q=\",\"\").replace(\"&amp\", \"\").replace(\"%3F\", \"?\").replace(\"%3D\", \"=\").replace(\"%26\", \"&\")\n",
    "\t\tlinky.append(str(url))\n",
    "\t\tcool_title.append(str(title))\n",
    "\n",
    "\t\n",
    "\t\tdates = soup2.findAll('span')\n",
    "\t\tsource_li = dates[0]\n",
    "\t\tsource_date = re.findall(pattern_date, str(source_li))\n",
    "\t\tdate = source_date[0].replace('- ', \"\").replace(\"</span>\", \"\")\n",
    "\t\tdate_list.append(str(date))\n",
    "\n",
    "\ttest = [{'title': t, 'link': u, 'date': d} for t, u, d in zip(cool_title, linky, date_list)]\n",
    "\treturn test"
   ]
  },
  {
   "cell_type": "code",
   "execution_count": 10,
   "metadata": {
    "collapsed": false
   },
   "outputs": [
    {
     "ename": "NameError",
     "evalue": "global name 'mechanize' is not defined",
     "output_type": "error",
     "traceback": [
      "\u001b[0;31m---------------------------------------------------------------------------\u001b[0m",
      "\u001b[0;31mNameError\u001b[0m                                 Traceback (most recent call last)",
      "\u001b[0;32m<ipython-input-10-ecc4e5a3865b>\u001b[0m in \u001b[0;36m<module>\u001b[0;34m()\u001b[0m\n\u001b[1;32m      1\u001b[0m \u001b[0;31m#testing in 1,2,3...\u001b[0m\u001b[0;34m\u001b[0m\u001b[0;34m\u001b[0m\u001b[0m\n\u001b[0;32m----> 2\u001b[0;31m \u001b[0;32mprint\u001b[0m \u001b[0mqueGoogleLinks\u001b[0m\u001b[0;34m(\u001b[0m\u001b[0;34m\"African Swine Fever\"\u001b[0m\u001b[0;34m,\u001b[0m \u001b[0;34m\"0\"\u001b[0m\u001b[0;34m)\u001b[0m\u001b[0;34m\u001b[0m\u001b[0m\n\u001b[0m",
      "\u001b[0;32m<ipython-input-8-afb8d73db218>\u001b[0m in \u001b[0;36mqueGoogleLinks\u001b[0;34m(link, page)\u001b[0m\n\u001b[1;32m      1\u001b[0m \u001b[0;32mdef\u001b[0m \u001b[0mqueGoogleLinks\u001b[0m\u001b[0;34m(\u001b[0m\u001b[0mlink\u001b[0m\u001b[0;34m,\u001b[0m \u001b[0mpage\u001b[0m\u001b[0;34m)\u001b[0m\u001b[0;34m:\u001b[0m\u001b[0;34m\u001b[0m\u001b[0m\n\u001b[1;32m      2\u001b[0m \u001b[0;34m\u001b[0m\u001b[0m\n\u001b[0;32m----> 3\u001b[0;31m         \u001b[0mbr\u001b[0m \u001b[0;34m=\u001b[0m \u001b[0mmechanize\u001b[0m\u001b[0;34m.\u001b[0m\u001b[0mBrowser\u001b[0m\u001b[0;34m(\u001b[0m\u001b[0;34m)\u001b[0m\u001b[0;34m\u001b[0m\u001b[0m\n\u001b[0m\u001b[1;32m      4\u001b[0m         \u001b[0mbr\u001b[0m\u001b[0;34m.\u001b[0m\u001b[0mset_handle_robots\u001b[0m\u001b[0;34m(\u001b[0m\u001b[0mFalse\u001b[0m\u001b[0;34m)\u001b[0m\u001b[0;34m\u001b[0m\u001b[0m\n\u001b[1;32m      5\u001b[0m         \u001b[0mbr\u001b[0m\u001b[0;34m.\u001b[0m\u001b[0maddheaders\u001b[0m \u001b[0;34m=\u001b[0m \u001b[0;34m[\u001b[0m\u001b[0;34m(\u001b[0m\u001b[0;34m'User-agent'\u001b[0m\u001b[0;34m,\u001b[0m \u001b[0;34m'chrome'\u001b[0m\u001b[0;34m)\u001b[0m\u001b[0;34m]\u001b[0m\u001b[0;34m\u001b[0m\u001b[0m\n",
      "\u001b[0;31mNameError\u001b[0m: global name 'mechanize' is not defined"
     ]
    }
   ],
   "source": [
    "#testing in 1,2,3...\n",
    "print queGoogleLinks(\"African Swine Fever\", \"0\") "
   ]
  },
  {
   "cell_type": "code",
   "execution_count": null,
   "metadata": {
    "collapsed": true
   },
   "outputs": [],
   "source": []
  }
 ],
 "metadata": {
  "kernelspec": {
   "display_name": "Python 2",
   "language": "python",
   "name": "python2"
  },
  "language_info": {
   "codemirror_mode": {
    "name": "ipython",
    "version": 2
   },
   "file_extension": ".py",
   "mimetype": "text/x-python",
   "name": "python",
   "nbconvert_exporter": "python",
   "pygments_lexer": "ipython2",
   "version": "2.7.10"
  }
 },
 "nbformat": 4,
 "nbformat_minor": 0
}
