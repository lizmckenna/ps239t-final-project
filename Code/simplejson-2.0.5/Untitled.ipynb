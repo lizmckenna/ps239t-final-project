{
 "cells": [
  {
   "cell_type": "code",
   "execution_count": 9,
   "metadata": {
    "collapsed": true
   },
   "outputs": [],
   "source": [
    "from pprint import pprint\n",
    "import urllib2\n",
    "import json\n",
    "import sys"
   ]
  },
  {
   "cell_type": "code",
   "execution_count": 10,
   "metadata": {
    "collapsed": true
   },
   "outputs": [],
   "source": [
    "IP_ADDR = '50.247.76.51'\n",
    "REFERER = 'google.com'"
   ]
  },
  {
   "cell_type": "code",
   "execution_count": 11,
   "metadata": {
    "collapsed": true
   },
   "outputs": [],
   "source": [
    "class GoogleNewsResults:\n",
    "    \"\"\"\n",
    "    Wraps the JSON results from the Google News API into a class.\n",
    "    \"\"\"\n",
    "\n",
    "    def __init__(self, json):\n",
    "        if not json:\n",
    "            raise Exception(\"Empty json_object\")\n",
    "\n",
    "        for k, v in json.items():\n",
    "\n",
    "            if k == 'relatedStories':\n",
    "                self.relatedStories = [RelatedStory(rs) for rs in json[k]]\n",
    "                continue\n",
    "\n",
    "            if k == 'image':\n",
    "                self.image = Image(json[k])\n",
    "                continue\n",
    "\n",
    "            # skip unknown dicts and lists\n",
    "            if type(json[k]) is dict or type(json[k]) is list: continue\n",
    "\n",
    "            # set the key/value for all attributes\n",
    "            setattr(self, k, v)"
   ]
  },
  {
   "cell_type": "code",
   "execution_count": 12,
   "metadata": {
    "collapsed": true
   },
   "outputs": [],
   "source": [
    "class RelatedStory:\n",
    "    \"\"\"\n",
    "    Wraps the JSON results of the related news story from the results of a query.\n",
    "    \"\"\"\n",
    "    def __init__(self, rs_json):\n",
    "        for k, v in rs_json.items():\n",
    "            setattr(self, k, v)"
   ]
  },
  {
   "cell_type": "code",
   "execution_count": 13,
   "metadata": {
    "collapsed": true
   },
   "outputs": [],
   "source": [
    "class GoogleNews:\n",
    "    \"\"\"\n",
    "    Provides access to the Google News API\n",
    "    \"\"\"\n",
    "    def __init__(self):\n",
    "        self.ipaddr = IP_ADDR\n",
    "        self.referer = REFERER\n",
    "        self.url = ('https://ajax.googleapis.com/ajax/services/search/news?' +\n",
    "                    'v=1.0&userip={0}&rsz=8'.format(self.ipaddr))\n",
    "\n",
    "        # Create functions for each topic\n",
    "        def make_topic_func(x):\n",
    "            return lambda : self._call_api(self.url, {'topic':x})\n",
    "\n",
    "        for k, v in TOPICS.items():\n",
    "            setattr(self, 'get_{}'.format(k), make_topic_func(v))"
   ]
  },
  {
   "cell_type": "code",
   "execution_count": 17,
   "metadata": {
    "collapsed": false
   },
   "outputs": [],
   "source": [
    "def get_query(self, query):\n",
    "        params = {'q': urllib2.quote(query)}\n",
    "        return self._call_api(self.url, params)"
   ]
  },
  {
   "cell_type": "code",
   "execution_count": 18,
   "metadata": {
    "collapsed": true
   },
   "outputs": [],
   "source": [
    "def _call_api(self, url, params):\n",
    "        \"\"\"\n",
    "        Calls the Google News API and returns the results as a list of\n",
    "        JSON data used to create GoogleNewsResults objects\n",
    "        \"\"\"\n",
    "        paramlist = [\"{}={}\".format(k,v) for k, v in params.items()]\n",
    "        queryurl = '{0}&{1}'.format(url, '&'.join(paramlist))\n",
    "        try:\n",
    "            req = urllib2.Request(queryurl, None, {'Referer': REFERER})\n",
    "            opened_req = urllib2.urlopen(req)\n",
    "            resp = opened_req.read()\n",
    "\n",
    "            # Process the JSON string.\n",
    "            resp_obj = json.loads(resp)\n",
    "\n",
    "            if resp_obj and\\\n",
    "                ('responseData' in resp_obj) and\\\n",
    "                ('results' in resp_obj['responseData']):\n",
    "                return resp_obj['responseData']['results']\n",
    "            else:\n",
    "                raise Exception('Could not retrieve result for query')\n",
    "\n",
    "        except Exception as e:\n",
    "            pprint(e)"
   ]
  },
  {
   "cell_type": "code",
   "execution_count": 19,
   "metadata": {
    "collapsed": false
   },
   "outputs": [
    {
     "ename": "NameError",
     "evalue": "name 'self' is not defined",
     "output_type": "error",
     "traceback": [
      "\u001b[0;31m---------------------------------------------------------------------------\u001b[0m",
      "\u001b[0;31mNameError\u001b[0m                                 Traceback (most recent call last)",
      "\u001b[0;32m<ipython-input-19-26276057445d>\u001b[0m in \u001b[0;36m<module>\u001b[0;34m()\u001b[0m\n\u001b[0;32m----> 1\u001b[0;31m \u001b[0m_call_api\u001b[0m\u001b[0;34m(\u001b[0m\u001b[0mself\u001b[0m\u001b[0;34m,\u001b[0m \u001b[0murl\u001b[0m\u001b[0;34m,\u001b[0m \u001b[0mprotesto\u001b[0m\u001b[0;34m)\u001b[0m\u001b[0;34m\u001b[0m\u001b[0m\n\u001b[0m",
      "\u001b[0;31mNameError\u001b[0m: name 'self' is not defined"
     ]
    }
   ],
   "source": [
    "_call_api(self, url, protesto)"
   ]
  },
  {
   "cell_type": "code",
   "execution_count": null,
   "metadata": {
    "collapsed": true
   },
   "outputs": [],
   "source": []
  }
 ],
 "metadata": {
  "kernelspec": {
   "display_name": "Python 2",
   "language": "python",
   "name": "python2"
  },
  "language_info": {
   "codemirror_mode": {
    "name": "ipython",
    "version": 2
   },
   "file_extension": ".py",
   "mimetype": "text/x-python",
   "name": "python",
   "nbconvert_exporter": "python",
   "pygments_lexer": "ipython2",
   "version": "2.7.10"
  }
 },
 "nbformat": 4,
 "nbformat_minor": 0
}
