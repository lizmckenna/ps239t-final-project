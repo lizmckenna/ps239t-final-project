{
 "cells": [
  {
   "cell_type": "code",
   "execution_count": 2,
   "metadata": {
    "collapsed": false,
    "scrolled": true
   },
   "outputs": [
    {
     "data": {
      "text/plain": [
       "131072"
      ]
     },
     "execution_count": 2,
     "metadata": {},
     "output_type": "execute_result"
    }
   ],
   "source": [
    "import whoosh\n",
    "import os\n",
    "import csv\n",
    "import sys\n",
    "\n",
    "csv.field_size_limit(sys.maxsize)"
   ]
  },
  {
   "cell_type": "code",
   "execution_count": 3,
   "metadata": {
    "collapsed": false
   },
   "outputs": [],
   "source": [
    "protests = []\n",
    "with open('protests.csv', 'rU') as csvfile: # open file\n",
    "    reader = csv.DictReader(csvfile) # create a reader\n",
    "    for row in reader: # loop through rows\n",
    "        protests.append(row) # append each row to the list"
   ]
  },
  {
   "cell_type": "code",
   "execution_count": 4,
   "metadata": {
    "collapsed": false
   },
   "outputs": [
    {
     "data": {
      "text/plain": [
       "[{'': '1:1',\n",
       "  'COUNTRY': 'Venezuela',\n",
       "  'DATE': 'April 4, 2014',\n",
       "  'LENGTH': '770 palavras',\n",
       "  'PUBLICATION': 'Agence France Presse -- Portuguese',\n",
       "  'TEXT': 'Integrantes da oposi\\xc3\\xa7\\xc3\\xa3o protestam nesta sexta-feira para pedir a liberta\\xc3\\xa7\\xc3\\xa3o do l\\xc3\\xadder radical Leopoldo L\\xc3\\xb3pez, na v\\xc3\\xa9spera do fim do seu per\\xc3\\xadodo de pris\\xc3\\xa3o preventiva. Ele \\xc3\\xa9 acusado pelo governo de promover um golpe de Estado na Venezuela. L\\xc3\\xb3pez \"foi acusado no dia de hoje (sexta). Cabe ao tribunal marcar a audi\\xc3\\xaancia\" pelos delitos de \"incita\\xc3\\xa7\\xc3\\xa3o p\\xc3\\xbablica, danos \\xc3\\xa0 propriedade em grau de \\'determinador\\', inc\\xc3\\xaandio em grau de \\'determinador\\' e forma\\xc3\\xa7\\xc3\\xa3o criminosa\", disse o procurador-geral Luis Ortega D\\xc3\\xadaz, em entrevista coletiva. Leopoldo L\\xc3\\xb3pez \\xc3\\xa9 um ambicioso economista de 42 anos formado em Harvard e l\\xc3\\xadder do partido Vontade Popular, da ala radical da coaliz\\xc3\\xa3o opositora Mesa da Unidade Democr\\xc3\\xa1tica. A acusa\\xc3\\xa7\\xc3\\xa3o formal foi feita algumas horas antes do in\\xc3\\xadcio da manifesta\\xc3\\xa7\\xc3\\xa3o com o lema \"Libertem Leopoldo\", que volta a desafiar o presidente Nicol\\xc3\\xa1s Maduro. Os participantes querem caminhar por uma avenida que leva ao Pal\\xc3\\xa1cio da Justi\\xc3\\xa7a, no centro de Caracas. O local \\xc3\\xa9 uma conhecida \\xc3\\xa1rea do chavismo, por onde v\\xc3\\xa1rias passeatas da oposi\\xc3\\xa7\\xc3\\xa3o n\\xc3\\xa3o conseguiram passar, o que provocou dist\\xc3\\xbarbios com a pol\\xc3\\xadcia. A marcha deve come\\xc3\\xa7ar na Pra\\xc3\\xa7a Bri\\xc3\\xb3n de Chaca\\xc3\\xadto, onde L\\xc3\\xb3pez se entregou \\xc3\\xa0 pol\\xc3\\xadcia em 18 de fevereiro. \\xc3\\x89 uma \"marcha pac\\xc3\\xadfica para o Pal\\xc3\\xa1cio da Justi\\xc3\\xa7a, para exigir que libertem Leopoldo L\\xc3\\xb3pez\", ressalta o texto convocat\\xc3\\xb3rio do Vontade Popular. - Dois meses de protestos - Terceiro ato popular esta semana, a mobiliza\\xc3\\xa7\\xc3\\xa3o tamb\\xc3\\xa9m marca dois meses de protestos da oposi\\xc3\\xa7\\xc3\\xa3o, iniciados por estudantes de San Crist\\xc3\\xb3bal (oeste) contra a inseguran\\xc3\\xa7a, mas que foram ampliados para outras cidades com cr\\xc3\\xadticas \\xc3\\xa0 crise econ\\xc3\\xb4mica, \\xc3\\xa0 repress\\xc3\\xa3o policial e \\xc3\\xa0 deten\\xc3\\xa7\\xc3\\xa3o de dirigentes pol\\xc3\\xadticos. O governo de Maduro - herdeiro pol\\xc3\\xadtico de Hugo Ch\\xc3\\xa1vez - denuncia que os protestos s\\xc3\\xa3o parte de um plano de golpe de Estado com o apoio de setores americanos e colombianos, assim como a ajuda de uma campanha midi\\xc3\\xa1tica internacional anti-venezuelana. At\\xc3\\xa9 o momento, os protestos deixaram 39 mortos, mais de 500 feridos, quase 100 den\\xc3\\xbancias de abusos policiais e uma centena de detidos, incluindo L\\xc3\\xb3pez e dois prefeitos. Outra l\\xc3\\xadder opositora, a deputada Mar\\xc3\\xada Corina Machado, teve seu mandato cassado pela Assembleia Nacional e pelo Tribunal Supremo de Justi\\xc3\\xa7a. As manifesta\\xc3\\xa7\\xc3\\xb5es diminu\\xc3\\xadram em n\\xc3\\xbamero e em intensidade, mas se mant\\xc3\\xaam em algumas cidades, principalmente na capital. Em Caracas, o munic\\xc3\\xadpio opositor de Chacao (leste) registra confrontos noturnos rotineiros entre manifestantes armados com pedras e bombas incendi\\xc3\\xa1rias e policiais da Tropa de Choque, que respondem com g\\xc3\\xa1s lacrimog\\xc3\\xaaneo. - Mesmo preso, L\\xc3\\xb3pez promove \\'La salida\\' - De sua cela na pris\\xc3\\xa3o militar de Ramo Verde, L\\xc3\\xb3pez denuncia condi\\xc3\\xa7\\xc3\\xb5es de isolamento, com pouco - mas \"respeitoso\" - contato com guardas militares, uma hora de exerc\\xc3\\xadcio ao sol e uma pequena televis\\xc3\\xa3o. A imagem de L\\xc3\\xb3pez de blusa verde, encostado em uma pequena janela e com as m\\xc3\\xa3os nas grades, tem circulado nas redes sociais. \"A luta iniciada por mim (...) \\xc3\\xa9 para promover \\'La salida\\' (a sa\\xc3\\xadda) democr\\xc3\\xa1tica, pac\\xc3\\xadfica e constitucional contra o que - j\\xc3\\xa1 n\\xc3\\xa3o h\\xc3\\xa1 d\\xc3\\xbavida - \\xc3\\xa9 uma ditadura na Venezuela\", disse L\\xc3\\xb3pez, em entrevista por escrito \\xc3\\xa0 rede CNN. Os protestos eclodiram em Caracas por obra de L\\xc3\\xb3pez, que convocou, em 12 de fevereiro, uma marcha com o lema \"La salida\". \\xc3\\x89 assim que o grupo pol\\xc3\\xadtico de L\\xc3\\xb3pez tem chamado a estrat\\xc3\\xa9gia para for\\xc3\\xa7ar a ren\\xc3\\xbancia de Maduro por press\\xc3\\xa3o das passeatas. Nesse dia, houve confrontos entre radicais, policiais e civis armados - apontados pela oposi\\xc3\\xa7\\xc3\\xa3o como simpatizantes do governo - com registro de tr\\xc3\\xaas mortos, os primeiros da onda que se seguiu. Com diferentes acusa\\xc3\\xa7\\xc3\\xb5es, entre elas homic\\xc3\\xaddio e terrorismo (agora retiradas), a Justi\\xc3\\xa7a emitiu uma ordem de captura contra L\\xc3\\xb3pez. Depois de cinco dias foragido, ele se entregou, cercado pela multid\\xc3\\xa3o, em um com\\xc3\\xadcio na Pra\\xc3\\xa7a Bri\\xc3\\xb3n. Na semana passada, um tribunal de Caracas rejeitou uma apela\\xc3\\xa7\\xc3\\xa3o apresentada pela defesa, alegando a inoc\\xc3\\xaancia do l\\xc3\\xadder radical. \"Leopoldo L\\xc3\\xb3pez nunca cometeu um crime e muito menos esses pelos quais est\\xc3\\xa1 sendo acusado\", frisou Juan Carlos Guti\\xc3\\xa9rrez. Outro l\\xc3\\xadder do Vontade Popular, Carlos Vecchio, tamb\\xc3\\xa9m est\\xc3\\xa1 na mira de uma ofensiva judicial lan\\xc3\\xa7ada no calor dos protestos e que o levaram para uma vida quase clandestina. H\\xc3\\xa1 duas semanas, Vecchio fez uma inesperada apari\\xc3\\xa7\\xc3\\xa3o em um protesto e deu algumas declara\\xc3\\xa7\\xc3\\xb5es \\xc3\\xa0 imprensa. \"Na Venezuela, as institui\\xc3\\xa7\\xc3\\xb5es n\\xc3\\xa3o existem. N\\xc3\\xa3o h\\xc3\\xa1 Justi\\xc3\\xa7a, nem independ\\xc3\\xaancia de Poderes. E o que resta \\xc3\\xa9 apenas para ser usado pelo regime contra os que pensam diferente. As institui\\xc3\\xa7\\xc3\\xb5es est\\xc3\\xa3o a servi\\xc3\\xa7o do regime\", declarou Vecchio, na ter\\xc3\\xa7a-feira, ao canal colombiano NTN24.',\n",
       "  'TITLE': 'Oposi\\xc3\\xa7\\xc3\\xa3o venezuelana exige liberdade para radical L\\xc3\\xb3pez'},\n",
       " {'': '1:2',\n",
       "  'COUNTRY': 'Venezuela',\n",
       "  'DATE': 'April 5, 2014',\n",
       "  'LENGTH': '800 palavras',\n",
       "  'PUBLICATION': 'Agence France Presse -- Portuguese',\n",
       "  'TEXT': 'Ao menos tr\\xc3\\xaas mil militantes opositores se reuniram nesta sexta-feira, no leste de Caracas, para exigir a liberta\\xc3\\xa7\\xc3\\xa3o do l\\xc3\\xadder radical opositor Leopoldo L\\xc3\\xb3pez, acusado pelo governo de promover um golpe de Estado na Venezuela. Os manifestantes, estudantes em sua maioria, encontraram-se na Pra\\xc3\\xa7a Bri\\xc3\\xb3n, na zona leste de Caracas. Esse basti\\xc3\\xa3o da oposi\\xc3\\xa7\\xc3\\xa3o \\xc3\\xa9 lim\\xc3\\xadtrofe com o centro da cidade, terreno do chavismo. Vestidos de branco, ou levando a bandeira da Venezuela, os manifestantes marcharam sob o slogan \"Libertem Leopoldo\", l\\xc3\\xadder do partido Vontade Popular. \"O sinal de que o governo come\\xc3\\xa7a a nos respeitar \\xc3\\xa9 libertar Leopoldo L\\xc3\\xb3pez e os presos pol\\xc3\\xadticos\", disse \\xc3\\xa0 AFP o militante do Vontade Popular Ernesto Palacios, de 31 anos. \"\\xc3\\x89 preciso despertar a Venezuela\", afirmou um jovem que usava uma improvisada m\\xc3\\xa1scara antig\\xc3\\xa1s, refor\\xc3\\xa7ada com um peda\\xc3\\xa7o de pano umedecido com vinagre para evitar a intoxica\\xc3\\xa7\\xc3\\xa3o do g\\xc3\\xa1s lacrimog\\xc3\\xaaneo. \"Esse governo ditatorial barra nosso caminho para o munic\\xc3\\xadpio Libertador. N\\xc3\\xb3s n\\xc3\\xa3o temos armas, apenas pedras, e \\xc3\\xa9 a pol\\xc3\\xadcia que sempre come\\xc3\\xa7a com o g\\xc3\\xa1s\", acrescentou o jovem, enquanto caminhava com outras 200 pessoas preparadas, como ele, para uma batalha de gases. Um grupo de manifestantes proveniente do interior do pa\\xc3\\xads discutia uma proposta de permanecer \"em resist\\xc3\\xaancia\" por 24 horas na Pra\\xc3\\xa7a Bri\\xc3\\xb3n, onde L\\xc3\\xb3pez se entregou \\xc3\\xa0 pol\\xc3\\xadcia em 18 de fevereiro. Leopoldo L\\xc3\\xb3pez \\xc3\\xa9 um economista de 42 anos, formado em Harvard e l\\xc3\\xadder do partido Vontade Popular, da ala radical da coaliz\\xc3\\xa3o opositora Mesa da Unidade Democr\\xc3\\xa1tica. - Dois meses de protestos - Terceiro ato popular esta semana, a mobiliza\\xc3\\xa7\\xc3\\xa3o tamb\\xc3\\xa9m marca dois meses de protestos da oposi\\xc3\\xa7\\xc3\\xa3o, iniciados por estudantes de San Crist\\xc3\\xb3bal (oeste) contra a inseguran\\xc3\\xa7a, mas que foram ampliados para outras cidades com cr\\xc3\\xadticas \\xc3\\xa0 crise econ\\xc3\\xb4mica, \\xc3\\xa0 repress\\xc3\\xa3o policial e \\xc3\\xa0 deten\\xc3\\xa7\\xc3\\xa3o de dirigentes pol\\xc3\\xadticos. O governo de Maduro - herdeiro pol\\xc3\\xadtico de Hugo Ch\\xc3\\xa1vez - denuncia que os protestos s\\xc3\\xa3o parte de um plano de golpe de Estado com o apoio de setores americanos e colombianos, assim como a ajuda de uma campanha midi\\xc3\\xa1tica internacional anti-venezuelana. At\\xc3\\xa9 o momento, os protestos deixaram 39 mortos, 608 feridos, quase 100 den\\xc3\\xbancias de abusos policiais e uma centena de detidos, incluindo L\\xc3\\xb3pez e dois prefeitos. Outra l\\xc3\\xadder opositora, a deputada Mar\\xc3\\xada Corina Machado, teve seu mandato cassado pela Assembleia Nacional e pelo Tribunal Supremo de Justi\\xc3\\xa7a. As manifesta\\xc3\\xa7\\xc3\\xb5es diminu\\xc3\\xadram em n\\xc3\\xbamero e em intensidade, mas se mant\\xc3\\xaam em algumas cidades, principalmente na capital. Em Caracas, o munic\\xc3\\xadpio opositor de Chacao (leste) registra confrontos noturnos rotineiros entre manifestantes armados com pedras e bombas incendi\\xc3\\xa1rias e policiais da Tropa de Choque, que respondem com g\\xc3\\xa1s lacrimog\\xc3\\xaaneo. - Mesmo preso, L\\xc3\\xb3pez promove \\'A Sa\\xc3\\xadda\\' - De sua cela na pris\\xc3\\xa3o militar de Ramo Verde, L\\xc3\\xb3pez denuncia condi\\xc3\\xa7\\xc3\\xb5es de isolamento, com pouco - mas \"respeitoso\" - contato com guardas militares, uma hora de exerc\\xc3\\xadcio ao sol e uma pequena televis\\xc3\\xa3o. A imagem de L\\xc3\\xb3pez de blusa verde, encostado em uma pequena janela e com as m\\xc3\\xa3os nas grades, tem circulado nas redes sociais. \"A luta iniciada por mim (...) \\xc3\\xa9 para promover \\'A Sa\\xc3\\xadda\\' democr\\xc3\\xa1tica, pac\\xc3\\xadfica e constitucional contra o que - j\\xc3\\xa1 n\\xc3\\xa3o h\\xc3\\xa1 d\\xc3\\xbavida - \\xc3\\xa9 uma ditadura na Venezuela\", disse L\\xc3\\xb3pez, em entrevista por escrito \\xc3\\xa0 rede CNN. Os protestos eclodiram em Caracas por obra de L\\xc3\\xb3pez, que convocou, em 12 de fevereiro, uma marcha com o lema \"A Sa\\xc3\\xadda\". \\xc3\\x89 assim que o grupo pol\\xc3\\xadtico de L\\xc3\\xb3pez tem chamado a estrat\\xc3\\xa9gia para for\\xc3\\xa7ar a ren\\xc3\\xbancia de Maduro por press\\xc3\\xa3o das passeatas. Nesse dia, houve confrontos entre radicais, policiais e civis armados - apontados pela oposi\\xc3\\xa7\\xc3\\xa3o como simpatizantes do governo - com registro de tr\\xc3\\xaas mortos, os primeiros da onda que se seguiu. Com diferentes acusa\\xc3\\xa7\\xc3\\xb5es, entre elas homic\\xc3\\xaddio e terrorismo (agora retiradas), a Justi\\xc3\\xa7a emitiu uma ordem de captura contra L\\xc3\\xb3pez. Depois de cinco dias foragido, ele se entregou, cercado pela multid\\xc3\\xa3o, em um com\\xc3\\xadcio na Pra\\xc3\\xa7a Bri\\xc3\\xb3n. Na semana passada, um tribunal de Caracas rejeitou uma apela\\xc3\\xa7\\xc3\\xa3o apresentada pela defesa, alegando a inoc\\xc3\\xaancia do l\\xc3\\xadder radical. \"Leopoldo L\\xc3\\xb3pez nunca cometeu um crime e muito menos esses pelos quais est\\xc3\\xa1 sendo acusado\", frisou Juan Carlos Guti\\xc3\\xa9rrez. Outro l\\xc3\\xadder do Vontade Popular, Carlos Vecchio, tamb\\xc3\\xa9m est\\xc3\\xa1 na mira de uma ofensiva judicial lan\\xc3\\xa7ada no calor dos protestos e que o levaram para uma vida quase clandestina. H\\xc3\\xa1 duas semanas, Vecchio fez uma inesperada apari\\xc3\\xa7\\xc3\\xa3o em um protesto e deu algumas declara\\xc3\\xa7\\xc3\\xb5es \\xc3\\xa0 imprensa. \"Na Venezuela, as institui\\xc3\\xa7\\xc3\\xb5es n\\xc3\\xa3o existem. N\\xc3\\xa3o h\\xc3\\xa1 Justi\\xc3\\xa7a, nem independ\\xc3\\xaancia de Poderes. E o que resta \\xc3\\xa9 apenas para ser usado pelo regime contra os que pensam diferente. As institui\\xc3\\xa7\\xc3\\xb5es est\\xc3\\xa3o a servi\\xc3\\xa7o do regime\", declarou Vecchio, na ter\\xc3\\xa7a-feira, ao canal colombiano NTN24.',\n",
       "  'TITLE': 'Oposi\\xc3\\xa7\\xc3\\xa3o venezuelana exige liberdade para opositor L\\xc3\\xb3pez'}]"
      ]
     },
     "execution_count": 4,
     "metadata": {},
     "output_type": "execute_result"
    }
   ],
   "source": [
    "protests[:2]"
   ]
  },
  {
   "cell_type": "code",
   "execution_count": 5,
   "metadata": {
    "collapsed": false
   },
   "outputs": [
    {
     "data": {
      "text/plain": [
       "list"
      ]
     },
     "execution_count": 5,
     "metadata": {},
     "output_type": "execute_result"
    }
   ],
   "source": [
    "type(protests)"
   ]
  },
  {
   "cell_type": "code",
   "execution_count": 6,
   "metadata": {
    "collapsed": false
   },
   "outputs": [
    {
     "data": {
      "text/plain": [
       "['', 'PUBLICATION', 'TITLE', 'COUNTRY', 'LENGTH', 'TEXT', 'DATE']"
      ]
     },
     "execution_count": 6,
     "metadata": {},
     "output_type": "execute_result"
    }
   ],
   "source": [
    "keys = protests[1].keys()\n",
    "keys"
   ]
  },
  {
   "cell_type": "code",
   "execution_count": 7,
   "metadata": {
    "collapsed": true
   },
   "outputs": [],
   "source": [
    "articles = [li['TEXT'] for li in protests]"
   ]
  },
  {
   "cell_type": "code",
   "execution_count": 9,
   "metadata": {
    "collapsed": false
   },
   "outputs": [
    {
     "data": {
      "text/plain": [
       "['Integrantes da oposi\\xc3\\xa7\\xc3\\xa3o protestam nesta sexta-feira para pedir a liberta\\xc3\\xa7\\xc3\\xa3o do l\\xc3\\xadder radical Leopoldo L\\xc3\\xb3pez, na v\\xc3\\xa9spera do fim do seu per\\xc3\\xadodo de pris\\xc3\\xa3o preventiva. Ele \\xc3\\xa9 acusado pelo governo de promover um golpe de Estado na Venezuela. L\\xc3\\xb3pez \"foi acusado no dia de hoje (sexta). Cabe ao tribunal marcar a audi\\xc3\\xaancia\" pelos delitos de \"incita\\xc3\\xa7\\xc3\\xa3o p\\xc3\\xbablica, danos \\xc3\\xa0 propriedade em grau de \\'determinador\\', inc\\xc3\\xaandio em grau de \\'determinador\\' e forma\\xc3\\xa7\\xc3\\xa3o criminosa\", disse o procurador-geral Luis Ortega D\\xc3\\xadaz, em entrevista coletiva. Leopoldo L\\xc3\\xb3pez \\xc3\\xa9 um ambicioso economista de 42 anos formado em Harvard e l\\xc3\\xadder do partido Vontade Popular, da ala radical da coaliz\\xc3\\xa3o opositora Mesa da Unidade Democr\\xc3\\xa1tica. A acusa\\xc3\\xa7\\xc3\\xa3o formal foi feita algumas horas antes do in\\xc3\\xadcio da manifesta\\xc3\\xa7\\xc3\\xa3o com o lema \"Libertem Leopoldo\", que volta a desafiar o presidente Nicol\\xc3\\xa1s Maduro. Os participantes querem caminhar por uma avenida que leva ao Pal\\xc3\\xa1cio da Justi\\xc3\\xa7a, no centro de Caracas. O local \\xc3\\xa9 uma conhecida \\xc3\\xa1rea do chavismo, por onde v\\xc3\\xa1rias passeatas da oposi\\xc3\\xa7\\xc3\\xa3o n\\xc3\\xa3o conseguiram passar, o que provocou dist\\xc3\\xbarbios com a pol\\xc3\\xadcia. A marcha deve come\\xc3\\xa7ar na Pra\\xc3\\xa7a Bri\\xc3\\xb3n de Chaca\\xc3\\xadto, onde L\\xc3\\xb3pez se entregou \\xc3\\xa0 pol\\xc3\\xadcia em 18 de fevereiro. \\xc3\\x89 uma \"marcha pac\\xc3\\xadfica para o Pal\\xc3\\xa1cio da Justi\\xc3\\xa7a, para exigir que libertem Leopoldo L\\xc3\\xb3pez\", ressalta o texto convocat\\xc3\\xb3rio do Vontade Popular. - Dois meses de protestos - Terceiro ato popular esta semana, a mobiliza\\xc3\\xa7\\xc3\\xa3o tamb\\xc3\\xa9m marca dois meses de protestos da oposi\\xc3\\xa7\\xc3\\xa3o, iniciados por estudantes de San Crist\\xc3\\xb3bal (oeste) contra a inseguran\\xc3\\xa7a, mas que foram ampliados para outras cidades com cr\\xc3\\xadticas \\xc3\\xa0 crise econ\\xc3\\xb4mica, \\xc3\\xa0 repress\\xc3\\xa3o policial e \\xc3\\xa0 deten\\xc3\\xa7\\xc3\\xa3o de dirigentes pol\\xc3\\xadticos. O governo de Maduro - herdeiro pol\\xc3\\xadtico de Hugo Ch\\xc3\\xa1vez - denuncia que os protestos s\\xc3\\xa3o parte de um plano de golpe de Estado com o apoio de setores americanos e colombianos, assim como a ajuda de uma campanha midi\\xc3\\xa1tica internacional anti-venezuelana. At\\xc3\\xa9 o momento, os protestos deixaram 39 mortos, mais de 500 feridos, quase 100 den\\xc3\\xbancias de abusos policiais e uma centena de detidos, incluindo L\\xc3\\xb3pez e dois prefeitos. Outra l\\xc3\\xadder opositora, a deputada Mar\\xc3\\xada Corina Machado, teve seu mandato cassado pela Assembleia Nacional e pelo Tribunal Supremo de Justi\\xc3\\xa7a. As manifesta\\xc3\\xa7\\xc3\\xb5es diminu\\xc3\\xadram em n\\xc3\\xbamero e em intensidade, mas se mant\\xc3\\xaam em algumas cidades, principalmente na capital. Em Caracas, o munic\\xc3\\xadpio opositor de Chacao (leste) registra confrontos noturnos rotineiros entre manifestantes armados com pedras e bombas incendi\\xc3\\xa1rias e policiais da Tropa de Choque, que respondem com g\\xc3\\xa1s lacrimog\\xc3\\xaaneo. - Mesmo preso, L\\xc3\\xb3pez promove \\'La salida\\' - De sua cela na pris\\xc3\\xa3o militar de Ramo Verde, L\\xc3\\xb3pez denuncia condi\\xc3\\xa7\\xc3\\xb5es de isolamento, com pouco - mas \"respeitoso\" - contato com guardas militares, uma hora de exerc\\xc3\\xadcio ao sol e uma pequena televis\\xc3\\xa3o. A imagem de L\\xc3\\xb3pez de blusa verde, encostado em uma pequena janela e com as m\\xc3\\xa3os nas grades, tem circulado nas redes sociais. \"A luta iniciada por mim (...) \\xc3\\xa9 para promover \\'La salida\\' (a sa\\xc3\\xadda) democr\\xc3\\xa1tica, pac\\xc3\\xadfica e constitucional contra o que - j\\xc3\\xa1 n\\xc3\\xa3o h\\xc3\\xa1 d\\xc3\\xbavida - \\xc3\\xa9 uma ditadura na Venezuela\", disse L\\xc3\\xb3pez, em entrevista por escrito \\xc3\\xa0 rede CNN. Os protestos eclodiram em Caracas por obra de L\\xc3\\xb3pez, que convocou, em 12 de fevereiro, uma marcha com o lema \"La salida\". \\xc3\\x89 assim que o grupo pol\\xc3\\xadtico de L\\xc3\\xb3pez tem chamado a estrat\\xc3\\xa9gia para for\\xc3\\xa7ar a ren\\xc3\\xbancia de Maduro por press\\xc3\\xa3o das passeatas. Nesse dia, houve confrontos entre radicais, policiais e civis armados - apontados pela oposi\\xc3\\xa7\\xc3\\xa3o como simpatizantes do governo - com registro de tr\\xc3\\xaas mortos, os primeiros da onda que se seguiu. Com diferentes acusa\\xc3\\xa7\\xc3\\xb5es, entre elas homic\\xc3\\xaddio e terrorismo (agora retiradas), a Justi\\xc3\\xa7a emitiu uma ordem de captura contra L\\xc3\\xb3pez. Depois de cinco dias foragido, ele se entregou, cercado pela multid\\xc3\\xa3o, em um com\\xc3\\xadcio na Pra\\xc3\\xa7a Bri\\xc3\\xb3n. Na semana passada, um tribunal de Caracas rejeitou uma apela\\xc3\\xa7\\xc3\\xa3o apresentada pela defesa, alegando a inoc\\xc3\\xaancia do l\\xc3\\xadder radical. \"Leopoldo L\\xc3\\xb3pez nunca cometeu um crime e muito menos esses pelos quais est\\xc3\\xa1 sendo acusado\", frisou Juan Carlos Guti\\xc3\\xa9rrez. Outro l\\xc3\\xadder do Vontade Popular, Carlos Vecchio, tamb\\xc3\\xa9m est\\xc3\\xa1 na mira de uma ofensiva judicial lan\\xc3\\xa7ada no calor dos protestos e que o levaram para uma vida quase clandestina. H\\xc3\\xa1 duas semanas, Vecchio fez uma inesperada apari\\xc3\\xa7\\xc3\\xa3o em um protesto e deu algumas declara\\xc3\\xa7\\xc3\\xb5es \\xc3\\xa0 imprensa. \"Na Venezuela, as institui\\xc3\\xa7\\xc3\\xb5es n\\xc3\\xa3o existem. N\\xc3\\xa3o h\\xc3\\xa1 Justi\\xc3\\xa7a, nem independ\\xc3\\xaancia de Poderes. E o que resta \\xc3\\xa9 apenas para ser usado pelo regime contra os que pensam diferente. As institui\\xc3\\xa7\\xc3\\xb5es est\\xc3\\xa3o a servi\\xc3\\xa7o do regime\", declarou Vecchio, na ter\\xc3\\xa7a-feira, ao canal colombiano NTN24.',\n",
       " 'Ao menos tr\\xc3\\xaas mil militantes opositores se reuniram nesta sexta-feira, no leste de Caracas, para exigir a liberta\\xc3\\xa7\\xc3\\xa3o do l\\xc3\\xadder radical opositor Leopoldo L\\xc3\\xb3pez, acusado pelo governo de promover um golpe de Estado na Venezuela. Os manifestantes, estudantes em sua maioria, encontraram-se na Pra\\xc3\\xa7a Bri\\xc3\\xb3n, na zona leste de Caracas. Esse basti\\xc3\\xa3o da oposi\\xc3\\xa7\\xc3\\xa3o \\xc3\\xa9 lim\\xc3\\xadtrofe com o centro da cidade, terreno do chavismo. Vestidos de branco, ou levando a bandeira da Venezuela, os manifestantes marcharam sob o slogan \"Libertem Leopoldo\", l\\xc3\\xadder do partido Vontade Popular. \"O sinal de que o governo come\\xc3\\xa7a a nos respeitar \\xc3\\xa9 libertar Leopoldo L\\xc3\\xb3pez e os presos pol\\xc3\\xadticos\", disse \\xc3\\xa0 AFP o militante do Vontade Popular Ernesto Palacios, de 31 anos. \"\\xc3\\x89 preciso despertar a Venezuela\", afirmou um jovem que usava uma improvisada m\\xc3\\xa1scara antig\\xc3\\xa1s, refor\\xc3\\xa7ada com um peda\\xc3\\xa7o de pano umedecido com vinagre para evitar a intoxica\\xc3\\xa7\\xc3\\xa3o do g\\xc3\\xa1s lacrimog\\xc3\\xaaneo. \"Esse governo ditatorial barra nosso caminho para o munic\\xc3\\xadpio Libertador. N\\xc3\\xb3s n\\xc3\\xa3o temos armas, apenas pedras, e \\xc3\\xa9 a pol\\xc3\\xadcia que sempre come\\xc3\\xa7a com o g\\xc3\\xa1s\", acrescentou o jovem, enquanto caminhava com outras 200 pessoas preparadas, como ele, para uma batalha de gases. Um grupo de manifestantes proveniente do interior do pa\\xc3\\xads discutia uma proposta de permanecer \"em resist\\xc3\\xaancia\" por 24 horas na Pra\\xc3\\xa7a Bri\\xc3\\xb3n, onde L\\xc3\\xb3pez se entregou \\xc3\\xa0 pol\\xc3\\xadcia em 18 de fevereiro. Leopoldo L\\xc3\\xb3pez \\xc3\\xa9 um economista de 42 anos, formado em Harvard e l\\xc3\\xadder do partido Vontade Popular, da ala radical da coaliz\\xc3\\xa3o opositora Mesa da Unidade Democr\\xc3\\xa1tica. - Dois meses de protestos - Terceiro ato popular esta semana, a mobiliza\\xc3\\xa7\\xc3\\xa3o tamb\\xc3\\xa9m marca dois meses de protestos da oposi\\xc3\\xa7\\xc3\\xa3o, iniciados por estudantes de San Crist\\xc3\\xb3bal (oeste) contra a inseguran\\xc3\\xa7a, mas que foram ampliados para outras cidades com cr\\xc3\\xadticas \\xc3\\xa0 crise econ\\xc3\\xb4mica, \\xc3\\xa0 repress\\xc3\\xa3o policial e \\xc3\\xa0 deten\\xc3\\xa7\\xc3\\xa3o de dirigentes pol\\xc3\\xadticos. O governo de Maduro - herdeiro pol\\xc3\\xadtico de Hugo Ch\\xc3\\xa1vez - denuncia que os protestos s\\xc3\\xa3o parte de um plano de golpe de Estado com o apoio de setores americanos e colombianos, assim como a ajuda de uma campanha midi\\xc3\\xa1tica internacional anti-venezuelana. At\\xc3\\xa9 o momento, os protestos deixaram 39 mortos, 608 feridos, quase 100 den\\xc3\\xbancias de abusos policiais e uma centena de detidos, incluindo L\\xc3\\xb3pez e dois prefeitos. Outra l\\xc3\\xadder opositora, a deputada Mar\\xc3\\xada Corina Machado, teve seu mandato cassado pela Assembleia Nacional e pelo Tribunal Supremo de Justi\\xc3\\xa7a. As manifesta\\xc3\\xa7\\xc3\\xb5es diminu\\xc3\\xadram em n\\xc3\\xbamero e em intensidade, mas se mant\\xc3\\xaam em algumas cidades, principalmente na capital. Em Caracas, o munic\\xc3\\xadpio opositor de Chacao (leste) registra confrontos noturnos rotineiros entre manifestantes armados com pedras e bombas incendi\\xc3\\xa1rias e policiais da Tropa de Choque, que respondem com g\\xc3\\xa1s lacrimog\\xc3\\xaaneo. - Mesmo preso, L\\xc3\\xb3pez promove \\'A Sa\\xc3\\xadda\\' - De sua cela na pris\\xc3\\xa3o militar de Ramo Verde, L\\xc3\\xb3pez denuncia condi\\xc3\\xa7\\xc3\\xb5es de isolamento, com pouco - mas \"respeitoso\" - contato com guardas militares, uma hora de exerc\\xc3\\xadcio ao sol e uma pequena televis\\xc3\\xa3o. A imagem de L\\xc3\\xb3pez de blusa verde, encostado em uma pequena janela e com as m\\xc3\\xa3os nas grades, tem circulado nas redes sociais. \"A luta iniciada por mim (...) \\xc3\\xa9 para promover \\'A Sa\\xc3\\xadda\\' democr\\xc3\\xa1tica, pac\\xc3\\xadfica e constitucional contra o que - j\\xc3\\xa1 n\\xc3\\xa3o h\\xc3\\xa1 d\\xc3\\xbavida - \\xc3\\xa9 uma ditadura na Venezuela\", disse L\\xc3\\xb3pez, em entrevista por escrito \\xc3\\xa0 rede CNN. Os protestos eclodiram em Caracas por obra de L\\xc3\\xb3pez, que convocou, em 12 de fevereiro, uma marcha com o lema \"A Sa\\xc3\\xadda\". \\xc3\\x89 assim que o grupo pol\\xc3\\xadtico de L\\xc3\\xb3pez tem chamado a estrat\\xc3\\xa9gia para for\\xc3\\xa7ar a ren\\xc3\\xbancia de Maduro por press\\xc3\\xa3o das passeatas. Nesse dia, houve confrontos entre radicais, policiais e civis armados - apontados pela oposi\\xc3\\xa7\\xc3\\xa3o como simpatizantes do governo - com registro de tr\\xc3\\xaas mortos, os primeiros da onda que se seguiu. Com diferentes acusa\\xc3\\xa7\\xc3\\xb5es, entre elas homic\\xc3\\xaddio e terrorismo (agora retiradas), a Justi\\xc3\\xa7a emitiu uma ordem de captura contra L\\xc3\\xb3pez. Depois de cinco dias foragido, ele se entregou, cercado pela multid\\xc3\\xa3o, em um com\\xc3\\xadcio na Pra\\xc3\\xa7a Bri\\xc3\\xb3n. Na semana passada, um tribunal de Caracas rejeitou uma apela\\xc3\\xa7\\xc3\\xa3o apresentada pela defesa, alegando a inoc\\xc3\\xaancia do l\\xc3\\xadder radical. \"Leopoldo L\\xc3\\xb3pez nunca cometeu um crime e muito menos esses pelos quais est\\xc3\\xa1 sendo acusado\", frisou Juan Carlos Guti\\xc3\\xa9rrez. Outro l\\xc3\\xadder do Vontade Popular, Carlos Vecchio, tamb\\xc3\\xa9m est\\xc3\\xa1 na mira de uma ofensiva judicial lan\\xc3\\xa7ada no calor dos protestos e que o levaram para uma vida quase clandestina. H\\xc3\\xa1 duas semanas, Vecchio fez uma inesperada apari\\xc3\\xa7\\xc3\\xa3o em um protesto e deu algumas declara\\xc3\\xa7\\xc3\\xb5es \\xc3\\xa0 imprensa. \"Na Venezuela, as institui\\xc3\\xa7\\xc3\\xb5es n\\xc3\\xa3o existem. N\\xc3\\xa3o h\\xc3\\xa1 Justi\\xc3\\xa7a, nem independ\\xc3\\xaancia de Poderes. E o que resta \\xc3\\xa9 apenas para ser usado pelo regime contra os que pensam diferente. As institui\\xc3\\xa7\\xc3\\xb5es est\\xc3\\xa3o a servi\\xc3\\xa7o do regime\", declarou Vecchio, na ter\\xc3\\xa7a-feira, ao canal colombiano NTN24.']"
      ]
     },
     "execution_count": 9,
     "metadata": {},
     "output_type": "execute_result"
    }
   ],
   "source": [
    "articles[:2]"
   ]
  },
  {
   "cell_type": "code",
   "execution_count": 28,
   "metadata": {
    "collapsed": false
   },
   "outputs": [],
   "source": [
    "def query_cities(article, city):\n",
    "\n",
    "    text = article.split()\n",
    "    if city in text:\n",
    "        takeIndex = text.index(city)\n",
    "        wc = len(text)\n",
    "        if takeIndex > 10 and takeIndex < wc - 10:\n",
    "            subset = ' '.join(text[takeIndex-10:takeIndex+10])\n",
    "        elif takeIndex < 10 and takeIndex < wc - 10:\n",
    "            subset = ' '.join(text[:takeIndex+10])\n",
    "        elif takeIndex > 10 and takeIndex > wc - 10:\n",
    "            subset = ' '.join(text[takeIndex-10:])\n",
    "\n",
    "        if 'protest' in subset:\n",
    "            return(True)\n",
    "        else:\n",
    "            return(False)"
   ]
  },
  {
   "cell_type": "code",
   "execution_count": 12,
   "metadata": {
    "collapsed": false
   },
   "outputs": [
    {
     "ename": "SyntaxError",
     "evalue": "'return' outside function (<ipython-input-12-f331cfbc9e91>, line 2)",
     "output_type": "error",
     "traceback": [
      "\u001b[0;36m  File \u001b[0;32m\"<ipython-input-12-f331cfbc9e91>\"\u001b[0;36m, line \u001b[0;32m2\u001b[0m\n\u001b[0;31m    return query_cities(item, \"Rio\")\u001b[0m\n\u001b[0;31mSyntaxError\u001b[0m\u001b[0;31m:\u001b[0m 'return' outside function\n"
     ]
    }
   ],
   "source": [
    "for item in articles:\n",
    "    return query_cities(item, \"Rio\")"
   ]
  },
  {
   "cell_type": "code",
   "execution_count": null,
   "metadata": {
    "collapsed": true
   },
   "outputs": [],
   "source": [
    "for d in l:\n",
    "    d['Rio'] = query_cities(d['TEXT'],\"Rio\")\n",
    "    d['Curitiba'] = query_cities(d['TEXT'],\"Curitiba\")\n",
    "    d['Belo Horizonte'] = query_cities(d['TEXT'],\"Belo Horizonte\")\n",
    "    d['São Paulo'] = query_cities(d['TEXT'],\"São Paulo\")\n",
    "    d['Salvador'] = query_cities(d['TEXT'],\"Salvador\")\n",
    "    d['Porto Alegre'] = query_cities(d['TEXT'],\"Porto Alegre\")\n",
    "    d['Fortaleza'] = query_cities(d['TEXT'],\"Fortaleza\")   \n",
    "    d['Recife'] = query_cities(d['TEXT'],\"Recife\")\n",
    "    d['Campinas'] = query_cities(d['TEXT'],\"Campinas\")\n",
    "    d['Brasília'] = query_cities(d['TEXT'],\"Brasília\")"
   ]
  }
 ],
 "metadata": {
  "kernelspec": {
   "display_name": "Python 2",
   "language": "python",
   "name": "python2"
  },
  "language_info": {
   "codemirror_mode": {
    "name": "ipython",
    "version": 2
   },
   "file_extension": ".py",
   "mimetype": "text/x-python",
   "name": "python",
   "nbconvert_exporter": "python",
   "pygments_lexer": "ipython2",
   "version": "2.7.10"
  }
 },
 "nbformat": 4,
 "nbformat_minor": 0
}
