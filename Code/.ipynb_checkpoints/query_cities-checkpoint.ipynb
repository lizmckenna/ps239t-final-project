{
 "cells": [
  {
   "cell_type": "code",
   "execution_count": 1,
   "metadata": {
    "collapsed": true
   },
   "outputs": [],
   "source": [
    "import whoosh\n",
    "import os\n",
    "import re\n",
    "import csv\n",
    "from operator import itemgetter\n",
    "from itertools import groupby"
   ]
  },
  {
   "cell_type": "code",
   "execution_count": 2,
   "metadata": {
    "collapsed": true
   },
   "outputs": [],
   "source": [
    "a_article = \"O site Conversa com Brasileiros, lançado em maio do ano passado pelo PSDB para \\\n",
    "ser um canal de diálogo dos políticos do partido com a população e para divulgar \\\n",
    "as informações e viagens do presidenciável Aécio Neves no momento em que ele \\\n",
    "iniciou sua corrida ao Palácio do Planalto, foi hackeado nesta quarta-feira, 23,\\\n",
    "em represália ao apoio do tucano à decretação da prisão de 23 manifestantes \\\n",
    "denunciados pelo Ministério Público do Rio de Janeiro que participaram de \\\n",
    "protestos violentos no Estado. \\\n",
    "A máscara-símbolo do grupo denominado Anonymous aparece na abertura do site \\\n",
    "www.conversacombrasileiros.com.br, num fundo preto, com a seguinte indagação:  \\\n",
    "Então, quer dizer que o senhor Aécio Neves apoia a repressão contra os  \\\n",
    "protestos populares? E, em seguida, completa: Ainda bem que políticos como ele  \\\n",
    "jamais governará (sic) este País. A assinatura é do Anonymous. Este grupo tem  \\\n",
    "participado das manifestações de rua em todo o País, desde o ano passado, e se  \\\n",
    "notabilizou pela invasão de alguns sites.  \\\n",
    "Ontem, em nota, Aécio Neves se posicionou a favor da prisão dos manifestantes  \\\n",
    "denunciados pelo Ministério Público, dizendo que ele e seu partido não podem  \\\n",
    "compactuar com o crime e com grupos que usam a violência para tomar à força as  \\\n",
    "ruas. A texto do tucano diz ainda que, logo após a prisão, surpreendentemente,  \\\n",
    "o PT divulgou uma nota de solidariedade aos presos, assinado por dirigentes do  \\\n",
    "partido, afirmando que a prisão é uma grave violação dos direitos e das  \\\n",
    "liberdades democráticas. Aécio questiona, na nota, a presidente Dilma Rousseff  \\\n",
    "(PT), sua adversária neste pleito, sobre sua posição e indaga se ela também  \\\n",
    "apoia os que usam a violência contra o patrimônio público, que pertence aos  \\\n",
    "brasileiros e atacam as instituições.\"\n",
    "city = \"Rio\""
   ]
  },
  {
   "cell_type": "code",
   "execution_count": 4,
   "metadata": {
    "collapsed": false
   },
   "outputs": [
    {
     "ename": "Error",
     "evalue": "field larger than field limit (131072)",
     "output_type": "error",
     "traceback": [
      "\u001b[0;31m---------------------------------------------------------------------------\u001b[0m",
      "\u001b[0;31mError\u001b[0m                                     Traceback (most recent call last)",
      "\u001b[0;32m<ipython-input-4-2128221d7bd9>\u001b[0m in \u001b[0;36m<module>\u001b[0;34m()\u001b[0m\n\u001b[1;32m      2\u001b[0m \u001b[0;32mwith\u001b[0m \u001b[0mopen\u001b[0m\u001b[0;34m(\u001b[0m\u001b[0;34m'protests.csv'\u001b[0m\u001b[0;34m,\u001b[0m \u001b[0;34m'rU'\u001b[0m\u001b[0;34m)\u001b[0m \u001b[0;32mas\u001b[0m \u001b[0mcsvfile\u001b[0m\u001b[0;34m:\u001b[0m \u001b[0;31m# open file\u001b[0m\u001b[0;34m\u001b[0m\u001b[0m\n\u001b[1;32m      3\u001b[0m     \u001b[0mreader\u001b[0m \u001b[0;34m=\u001b[0m \u001b[0mcsv\u001b[0m\u001b[0;34m.\u001b[0m\u001b[0mDictReader\u001b[0m\u001b[0;34m(\u001b[0m\u001b[0mcsvfile\u001b[0m\u001b[0;34m)\u001b[0m \u001b[0;31m# create a reader\u001b[0m\u001b[0;34m\u001b[0m\u001b[0m\n\u001b[0;32m----> 4\u001b[0;31m     \u001b[0;32mfor\u001b[0m \u001b[0mrow\u001b[0m \u001b[0;32min\u001b[0m \u001b[0mreader\u001b[0m\u001b[0;34m:\u001b[0m \u001b[0;31m# loop through rows\u001b[0m\u001b[0;34m\u001b[0m\u001b[0m\n\u001b[0m\u001b[1;32m      5\u001b[0m         \u001b[0mprotests\u001b[0m\u001b[0;34m.\u001b[0m\u001b[0mappend\u001b[0m\u001b[0;34m(\u001b[0m\u001b[0mrow\u001b[0m\u001b[0;34m)\u001b[0m \u001b[0;31m# append each row to the list\u001b[0m\u001b[0;34m\u001b[0m\u001b[0m\n",
      "\u001b[0;32m/Users/lizmckenna/anaconda/lib/python2.7/csv.pyc\u001b[0m in \u001b[0;36mnext\u001b[0;34m(self)\u001b[0m\n\u001b[1;32m    106\u001b[0m             \u001b[0;31m# Used only for its side effect.\u001b[0m\u001b[0;34m\u001b[0m\u001b[0;34m\u001b[0m\u001b[0m\n\u001b[1;32m    107\u001b[0m             \u001b[0mself\u001b[0m\u001b[0;34m.\u001b[0m\u001b[0mfieldnames\u001b[0m\u001b[0;34m\u001b[0m\u001b[0m\n\u001b[0;32m--> 108\u001b[0;31m         \u001b[0mrow\u001b[0m \u001b[0;34m=\u001b[0m \u001b[0mself\u001b[0m\u001b[0;34m.\u001b[0m\u001b[0mreader\u001b[0m\u001b[0;34m.\u001b[0m\u001b[0mnext\u001b[0m\u001b[0;34m(\u001b[0m\u001b[0;34m)\u001b[0m\u001b[0;34m\u001b[0m\u001b[0m\n\u001b[0m\u001b[1;32m    109\u001b[0m         \u001b[0mself\u001b[0m\u001b[0;34m.\u001b[0m\u001b[0mline_num\u001b[0m \u001b[0;34m=\u001b[0m \u001b[0mself\u001b[0m\u001b[0;34m.\u001b[0m\u001b[0mreader\u001b[0m\u001b[0;34m.\u001b[0m\u001b[0mline_num\u001b[0m\u001b[0;34m\u001b[0m\u001b[0m\n\u001b[1;32m    110\u001b[0m \u001b[0;34m\u001b[0m\u001b[0m\n",
      "\u001b[0;31mError\u001b[0m: field larger than field limit (131072)"
     ]
    }
   ],
   "source": [
    "protests = []\n",
    "with open('protests.csv', 'rU') as csvfile: # open file\n",
    "    reader = csv.DictReader(csvfile) # create a reader\n",
    "    for row in reader: # loop through rows\n",
    "        protests.append(row) # append each row to the list\n"
   ]
  },
  {
   "cell_type": "code",
   "execution_count": 4,
   "metadata": {
    "collapsed": false
   },
   "outputs": [],
   "source": [
    "def query_cities(article, city):\n",
    "\n",
    "    text = article.split()\n",
    "    if city in text:\n",
    "        takeIndex = text.index(city)\n",
    "        wc = len(text)\n",
    "        if takeIndex > 10 and takeIndex < wc - 10:\n",
    "            subset = ' '.join(text[takeIndex-10:takeIndex+10])\n",
    "        elif takeIndex < 10 and takeIndex < wc - 10:\n",
    "            subset = ' '.join(text[:takeIndex+10])\n",
    "        elif takeIndex > 10 and takeIndex > wc - 10:\n",
    "            subset = ' '.join(text[takeIndex-10:])\n",
    "\n",
    "        if 'protest' in subset:\n",
    "            return(True)\n",
    "        else:\n",
    "            return(False)"
   ]
  },
  {
   "cell_type": "code",
   "execution_count": 5,
   "metadata": {
    "collapsed": false
   },
   "outputs": [
    {
     "data": {
      "text/plain": [
       "1"
      ]
     },
     "execution_count": 5,
     "metadata": {},
     "output_type": "execute_result"
    }
   ],
   "source": [
    "query_cities(a_article, \"Rio\")"
   ]
  },
  {
   "cell_type": "code",
   "execution_count": null,
   "metadata": {
    "collapsed": true
   },
   "outputs": [],
   "source": [
    "for d in l:\n",
    "    d['Rio'] = query_cities(d['TEXT'],\"Rio\")\n",
    "    d['Curitiba'] = query_cities(d['TEXT'],\"Curitiba\")\n",
    "    d['Belo Horizonte'] = query_cities(d['TEXT'],\"Belo Horizonte\")\n",
    "    d['São Paulo'] = query_cities(d['TEXT'],\"São Paulo\")\n",
    "    d['Salvador'] = query_cities(d['TEXT'],\"Salvador\")\n",
    "    d['Porto Alegre'] = query_cities(d['TEXT'],\"Porto Alegre\")\n",
    "    d['Fortaleza'] = query_cities(d['TEXT'],\"Fortaleza\")   \n",
    "    d['Recife'] = query_cities(d['TEXT'],\"Recife\")\n",
    "    d['Campinas'] = query_cities(d['TEXT'],\"Campinas\")\n",
    "    d['Brasília'] = query_cities(d['TEXT'],\"Brasília\")"
   ]
  }
 ],
 "metadata": {
  "kernelspec": {
   "display_name": "Python 2",
   "language": "python",
   "name": "python2"
  },
  "language_info": {
   "codemirror_mode": {
    "name": "ipython",
    "version": 2
   },
   "file_extension": ".py",
   "mimetype": "text/x-python",
   "name": "python",
   "nbconvert_exporter": "python",
   "pygments_lexer": "ipython2",
   "version": "2.7.10"
  }
 },
 "nbformat": 4,
 "nbformat_minor": 0
}
