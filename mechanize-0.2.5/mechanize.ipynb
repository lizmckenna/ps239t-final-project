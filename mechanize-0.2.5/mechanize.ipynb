{
 "cells": [
  {
   "cell_type": "code",
   "execution_count": 1,
   "metadata": {
    "collapsed": true
   },
   "outputs": [],
   "source": [
    "import urllib\n",
    "import mechanize\n",
    "from bs4 import BeautifulSoup\n",
    "import re\n",
    "import json"
   ]
  },
  {
   "cell_type": "code",
   "execution_count": 15,
   "metadata": {
    "collapsed": true
   },
   "outputs": [],
   "source": [
    "def queGoogleLinks(link):\n",
    "    \n",
    "\tbr = mechanize.Browser()\n",
    "\tbr.set_handle_robots(False)\n",
    "\tbr.addheaders = [('User-agent', 'chrome')]\n",
    "\n",
    "\t#replaces any spaces with plus sings in search term\n",
    "\tterm = link.replace(\" \", \"+\")\n",
    "    \n",
    "\t#url for Google News \n",
    "\t#pages still need to be worked on but for now the first page results are always shown with '0'\n",
    "\tquery = \"http://www.google.com/search?num=10&hl=en&gl=us&tbm=nws&authuser=0&q=\"+ term +\"&oq=\"+ term + \"&gws_rd=ssl#authuser=0&gl=us&hl=en&q=FMD&&start=\"+\"&tbm=nws\"\n",
    "\thtmltext = br.open(query).read()\n",
    "\tsoup = BeautifulSoup(htmltext)\n",
    "\tsearch = soup.findAll('div', attrs={'id':'search'})\n",
    "\tsearchtext =  str(search[0])\n",
    "\tsoup1 = BeautifulSoup(searchtext)\n",
    "\tlist_items = soup1.findAll('li')\n",
    "\tspan_items = soup1.findAll('span')\n",
    "\t\n",
    "    #regex to find links between 'q=' and '&amp'\n",
    "\tregex = \"q(?=.*).*?&amp\"\n",
    "    \n",
    "\t#regex to parse article titles\n",
    "\tregex_title = '\">(?!.>.*).*?</a'\n",
    "\tregex_span = '-(?!-.*).*?</span>'\n",
    "\tpattern = re.compile(regex)\n",
    "\tpattern_title = re.compile(regex_title)\n",
    "\tpattern_date = re.compile(regex_span)\n",
    "\tlinky = []\n",
    "\tcool_title = []\n",
    "\tdate_list = []\n",
    "\t\n",
    "\tfor li in list_items:\n",
    "\t\tsoup2 = BeautifulSoup(str(li))\n",
    "\t\tlinks = soup2.findAll('a')\n",
    "\t\tsource_link = links[0]\n",
    "\t\tsource_url = re.findall(pattern, str(source_link))\n",
    "\t\tsource_title = re.findall(pattern_title, str(source_link))\n",
    "\t\ttitle = source_title[0].replace('\">', \"\").replace(\"</a\", \"\").replace(\"<b>\", \"\").replace(\"</b>\", \"\")\n",
    "\t\turl = source_url[0].replace(\"q=\",\"\").replace(\"&amp\", \"\").replace(\"%3F\", \"?\").replace(\"%3D\", \"=\").replace(\"%26\", \"&\")\n",
    "\t\tlinky.append(str(url))\n",
    "\t\tcool_title.append(str(title))\n",
    "\n",
    "\t\n",
    "\t\tdates = soup2.findAll('span')\n",
    "\t\tsource_li = dates[0]\n",
    "\t\tsource_date = re.findall(pattern_date, str(source_li))\n",
    "\t\tdate = source_date[0].replace('- ', \"\").replace(\"</span>\", \"\")\n",
    "\t\tdate_list.append(str(date))\n",
    "\n",
    "\ttest = [{'title': t, 'link': u, 'date': d} for t, u, d in zip(cool_title, linky, date_list)]\n",
    "\treturn test"
   ]
  },
  {
   "cell_type": "code",
   "execution_count": 21,
   "metadata": {
    "collapsed": false
   },
   "outputs": [
    {
     "name": "stdout",
     "output_type": "stream",
     "text": [
      "[{'date': '8 hours ago', 'link': 'https://www.brasil247.com/pt/247/favela247/208616/Manifesta%25C3%25A7%25C3%25A3o-re%25C3%25BAne-mais-de-mil-contra-exterm%25C3%25ADnio-da-juventude-negra.htm', 'title': 'Manifesta\\xc3\\xa7\\xc3\\xa3o re\\xc3\\xbane mais de mil contra exterm\\xc3\\xadnio da juventude negra'}, {'date': '1 day ago', 'link': 'http://www.diariodepernambuco.com.br/app/noticia/vida-urbana/2015/12/07/interna_vidaurbana,614667/foto-de-paulo-trigueiro-e-terceiro-lugar-no-32-premio-direitos-humanos-de-jornalismo.shtml', 'title': 'Imgem Foto de Paulo Trigueiro \\xc3\\xa9 terceiro lugar no 32\\xc2\\xba Pr\\xc3\\xaamio ...'}, {'date': '6 days ago', 'link': 'http://noticias.r7.com/brasil/chefe-de-policia-de-chicago-e-destituido-apos-protestos-por-morte-de-jovem-negro-02122015', 'title': 'Chefe de pol\\xc3\\xadcia de Chicago \\xc3\\xa9 destitu\\xc3\\xaddo ap\\xc3\\xb3s protestos por morte ...'}, {'date': 'Nov 28, 2015', 'link': 'http://zh.clicrbs.com.br/rs/esportes/noticia/2015/11/jamil-chade-a-copa-do-mundo-no-brasil-chacoalhou-o-sistema-da-fifa-4917308.html', 'title': 'Jamil Chade: \"A Copa do Mundo no Brasil chacoalhou o sistema da ...'}, {'date': 'Nov 10, 2015', 'link': 'http://www.dw.com/pt/nunca-fomos-aliados-de-cunha-afirma-ativista-kim-kataguiri/a-18833306', 'title': '\"Nunca fomos aliados de Cunha\", afirma ativista Kim Kataguiri'}, {'date': 'Dec 1, 2015', 'link': 'http://www.dm.com.br/cotidiano/2015/12/morte-de-ciclista-e-declaracao-de-guerra-da-violencia-urbana.html', 'title': 'Morte de ciclista \\xc3\\xa9 declara\\xc3\\xa7\\xc3\\xa3o de guerra da viol\\xc3\\xaancia urbana'}, {'date': 'Nov 26, 2015', 'link': 'http://www.jb.com.br/internacional/noticias/2015/11/26/oposicao-da-venezuela-denuncia-assassinato-de-politico-durante-comicio/?from_rss=None', 'title': 'Oposi\\xc3\\xa7\\xc3\\xa3o da Venezuela denuncia assassinato de pol\\xc3\\xadtico durante ...'}, {'date': 'Nov 12, 2015', 'link': 'http://www.redebrasilatual.com.br/trabalho/2015/11/trabalhadores-protestam-contra-fim-da-usiminas-1933.html', 'title': 'Trabalhadores protestam contra fechamento de unidade da Usiminas'}, {'date': 'Nov 23, 2015', 'link': 'http://www.jb.com.br/cultura/noticias/2015/11/23/com-valeria-solarino-sp-recebe-festival-italiano-de-cinema/', 'title': 'Com Valeria Solarino, SP recebe festival italiano de cinema'}, {'date': 'Aug 14, 2015', 'link': 'http://www.bbc.com/portuguese/noticias/2015/08/150814_protestos_domingo_ms_cc', 'title': 'Protestos do dia 16 v\\xc3\\xa3o poupar Cunha e focar em impeachment ...'}]\n"
     ]
    }
   ],
   "source": [
    "#testing in 1,2,3...\n",
    "print queGoogleLinks(\"protesto brasil maio 2014\") "
   ]
  },
  {
   "cell_type": "code",
   "execution_count": 24,
   "metadata": {
    "collapsed": true
   },
   "outputs": [],
   "source": [
    "maio = queGoogleLinks(\"protesto brasil maio 2014\") "
   ]
  },
  {
   "cell_type": "code",
   "execution_count": 25,
   "metadata": {
    "collapsed": false
   },
   "outputs": [
    {
     "data": {
      "text/plain": [
       "10"
      ]
     },
     "execution_count": 25,
     "metadata": {},
     "output_type": "execute_result"
    }
   ],
   "source": [
    "type(maio)\n",
    "len(maio)"
   ]
  },
  {
   "cell_type": "code",
   "execution_count": null,
   "metadata": {
    "collapsed": true
   },
   "outputs": [],
   "source": []
  }
 ],
 "metadata": {
  "kernelspec": {
   "display_name": "Python 2",
   "language": "python",
   "name": "python2"
  },
  "language_info": {
   "codemirror_mode": {
    "name": "ipython",
    "version": 2
   },
   "file_extension": ".py",
   "mimetype": "text/x-python",
   "name": "python",
   "nbconvert_exporter": "python",
   "pygments_lexer": "ipython2",
   "version": "2.7.10"
  }
 },
 "nbformat": 4,
 "nbformat_minor": 0
}
